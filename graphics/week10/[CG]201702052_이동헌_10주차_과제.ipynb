{
 "cells": [
  {
   "cell_type": "markdown",
   "metadata": {
    "id": "IQpptgJREt-R"
   },
   "source": [
    "<h1>Computer Graphics week10 : Convolution Layer</h1>"
   ]
  },
  {
   "cell_type": "markdown",
   "metadata": {},
   "source": [
    "<h2>201702052 Lee Dongheon</h2>"
   ]
  },
  {
   "cell_type": "code",
   "execution_count": 1,
   "metadata": {
    "id": "cZ7KR5wf8tsm"
   },
   "outputs": [],
   "source": [
    "import tensorflow as tf\n",
    "from tensorflow import keras\n",
    "import matplotlib.pyplot as plt\n",
    "import numpy as np"
   ]
  },
  {
   "cell_type": "code",
   "execution_count": 2,
   "metadata": {
    "colab": {
     "base_uri": "https://localhost:8080/"
    },
    "id": "rrve_U9_87cu",
    "outputId": "a05716e1-2a59-4656-c2b2-410a0048001e"
   },
   "outputs": [
    {
     "name": "stdout",
     "output_type": "stream",
     "text": [
      "Downloading data from https://www.cs.toronto.edu/~kriz/cifar-10-python.tar.gz\n",
      "170500096/170498071 [==============================] - 2s 0us/step\n",
      "170508288/170498071 [==============================] - 2s 0us/step\n"
     ]
    }
   ],
   "source": [
    "cifar10 = tf.keras.datasets.cifar10\n",
    "\n",
    "(train_inputs, train_labels), (test_inputs, test_labels) = cifar10.load_data()"
   ]
  },
  {
   "cell_type": "code",
   "execution_count": 3,
   "metadata": {
    "colab": {
     "base_uri": "https://localhost:8080/"
    },
    "id": "MPZSy_E887ey",
    "outputId": "616031c0-8abd-451a-db5b-4ecfdaceb499"
   },
   "outputs": [
    {
     "name": "stdout",
     "output_type": "stream",
     "text": [
      "(50000, 32, 32, 3)\n",
      "(50000, 1)\n"
     ]
    }
   ],
   "source": [
    "print(train_inputs.shape)\n",
    "print(train_labels.shape)"
   ]
  },
  {
   "cell_type": "code",
   "execution_count": 4,
   "metadata": {
    "colab": {
     "base_uri": "https://localhost:8080/",
     "height": 266
    },
    "id": "1AFnR1Bw87g6",
    "outputId": "b3a7ea98-01e8-4c76-816d-37aef8e4238a"
   },
   "outputs": [
    {
     "data": {
      "image/png": "[encoded data removed]",
      "text/plain": [
       "<Figure size 432x288 with 1 Axes>"
      ]
     },
     "metadata": {
      "needs_background": "light"
     },
     "output_type": "display_data"
    }
   ],
   "source": [
    "plt.imshow(train_inputs[0])\n",
    "plt.show()"
   ]
  },
  {
   "cell_type": "code",
   "execution_count": 5,
   "metadata": {
    "id": "J_UTAJ7C87jg"
   },
   "outputs": [],
   "source": [
    "train_inputs = train_inputs / 255.0\n",
    "test_inputs = test_inputs / 255.0"
   ]
  },
  {
   "cell_type": "markdown",
   "metadata": {
    "id": "8GBVOjXX9LqN"
   },
   "source": [
    "<h2>Week 10 Homework : Convolution Layer</h2>"
   ]
  },
  {
   "cell_type": "markdown",
   "metadata": {
    "id": "eMIaWRvTFP5D"
   },
   "source": [
    "<h3>input(32, 32, 3) -> Conv2D(28, 28, 12) -> Pooling -> Conv2D(10, 10, 8) -> output(10)</h3>"
   ]
  },
  {
   "cell_type": "code",
   "execution_count": 6,
   "metadata": {
    "id": "0V00IWuo87l7"
   },
   "outputs": [],
   "source": [
    "model = keras.Sequential([\n",
    "                          keras.Input(shape=(32,32,3)),\n",
    "                          keras.layers.Conv2D(filters=12, kernel_size=(5, 5), strides=(1, 1), padding='valid'),\n",
    "                          keras.layers.MaxPool2D(),\n",
    "                          keras.layers.Conv2D(filters=8, kernel_size=(5, 5), strides=(1, 1), padding='valid'),\n",
    "                          keras.layers.Flatten(),\n",
    "                          keras.layers.Dense(10, activation='softmax'),\n",
    "])"
   ]
  },
  {
   "cell_type": "code",
   "execution_count": 7,
   "metadata": {
    "colab": {
     "base_uri": "https://localhost:8080/"
    },
    "id": "WtX3k_TD87n7",
    "outputId": "f538d4ef-878e-4938-f41b-3aa254bd0c95"
   },
   "outputs": [
    {
     "name": "stdout",
     "output_type": "stream",
     "text": [
      "Model: \"sequential\"\n",
      "_________________________________________________________________\n",
      " Layer (type)                Output Shape              Param #   \n",
      "=================================================================\n",
      " conv2d (Conv2D)             (None, 28, 28, 12)        912       \n",
      "                                                                 \n",
      " max_pooling2d (MaxPooling2D  (None, 14, 14, 12)       0         \n",
      " )                                                               \n",
      "                                                                 \n",
      " conv2d_1 (Conv2D)           (None, 10, 10, 8)         2408      \n",
      "                                                                 \n",
      " flatten (Flatten)           (None, 800)               0         \n",
      "                                                                 \n",
      " dense (Dense)               (None, 10)                8010      \n",
      "                                                                 \n",
      "=================================================================\n",
      "Total params: 11,330\n",
      "Trainable params: 11,330\n",
      "Non-trainable params: 0\n",
      "_________________________________________________________________\n"
     ]
    }
   ],
   "source": [
    "model.summary()"
   ]
  },
  {
   "cell_type": "code",
   "execution_count": 8,
   "metadata": {
    "id": "35m_Y4mS87pv"
   },
   "outputs": [],
   "source": [
    "model.compile(optimizer='Adam',\n",
    "              loss=keras.losses.SparseCategoricalCrossentropy(from_logits=True),\n",
    "              metrics=['acc'])"
   ]
  },
  {
   "cell_type": "code",
   "execution_count": 9,
   "metadata": {
    "colab": {
     "base_uri": "https://localhost:8080/"
    },
    "id": "2qBflJOM87uH",
    "outputId": "6089e56b-20c3-4b1f-b1d0-5ac04d8974b9"
   },
   "outputs": [
    {
     "name": "stdout",
     "output_type": "stream",
     "text": [
      "Epoch 1/20\n"
     ]
    },
    {
     "name": "stderr",
     "output_type": "stream",
     "text": [
      "/usr/local/lib/python3.7/dist-packages/tensorflow/python/util/dispatch.py:1096: UserWarning: \"`sparse_categorical_crossentropy` received `from_logits=True`, but the `output` argument was produced by a sigmoid or softmax activation and thus does not represent logits. Was this intended?\"\n",
      "  return dispatch_target(*args, **kwargs)\n"
     ]
    },
    {
     "name": "stdout",
     "output_type": "stream",
     "text": [
      "6250/6250 [==============================] - 59s 5ms/step - loss: 1.6863 - acc: 0.4068 - val_loss: 1.5602 - val_acc: 0.4475\n",
      "Epoch 2/20\n",
      "6250/6250 [==============================] - 27s 4ms/step - loss: 1.4783 - acc: 0.4890 - val_loss: 1.3943 - val_acc: 0.5242\n",
      "Epoch 3/20\n",
      "6250/6250 [==============================] - 27s 4ms/step - loss: 1.3914 - acc: 0.5208 - val_loss: 1.3201 - val_acc: 0.5453\n",
      "Epoch 4/20\n",
      "6250/6250 [==============================] - 27s 4ms/step - loss: 1.3568 - acc: 0.5352 - val_loss: 1.3395 - val_acc: 0.5379\n",
      "Epoch 5/20\n",
      "6250/6250 [==============================] - 30s 5ms/step - loss: 1.3267 - acc: 0.5469 - val_loss: 1.3584 - val_acc: 0.5326\n",
      "Epoch 6/20\n",
      "6250/6250 [==============================] - 27s 4ms/step - loss: 1.3117 - acc: 0.5498 - val_loss: 1.3186 - val_acc: 0.5475\n",
      "Epoch 7/20\n",
      "6250/6250 [==============================] - 27s 4ms/step - loss: 1.2912 - acc: 0.5579 - val_loss: 1.3650 - val_acc: 0.5297\n",
      "Epoch 8/20\n",
      "6250/6250 [==============================] - 27s 4ms/step - loss: 1.2864 - acc: 0.5581 - val_loss: 1.2975 - val_acc: 0.5547\n",
      "Epoch 9/20\n",
      "6250/6250 [==============================] - 27s 4ms/step - loss: 1.2736 - acc: 0.5648 - val_loss: 1.3341 - val_acc: 0.5500\n",
      "Epoch 10/20\n",
      "6250/6250 [==============================] - 27s 4ms/step - loss: 1.2682 - acc: 0.5657 - val_loss: 1.4315 - val_acc: 0.5165\n",
      "Epoch 11/20\n",
      "6250/6250 [==============================] - 27s 4ms/step - loss: 1.2682 - acc: 0.5638 - val_loss: 1.4488 - val_acc: 0.5120\n",
      "Epoch 12/20\n",
      "6250/6250 [==============================] - 28s 4ms/step - loss: 1.2547 - acc: 0.5688 - val_loss: 1.3954 - val_acc: 0.5272\n",
      "Epoch 13/20\n",
      "6250/6250 [==============================] - 30s 5ms/step - loss: 1.2497 - acc: 0.5707 - val_loss: 1.3387 - val_acc: 0.5409\n",
      "Epoch 14/20\n",
      "6250/6250 [==============================] - 30s 5ms/step - loss: 1.2508 - acc: 0.5727 - val_loss: 1.3522 - val_acc: 0.5416\n",
      "Epoch 15/20\n",
      "6250/6250 [==============================] - 28s 4ms/step - loss: 1.2438 - acc: 0.5745 - val_loss: 1.3349 - val_acc: 0.5444\n",
      "Epoch 16/20\n",
      "6250/6250 [==============================] - 28s 4ms/step - loss: 1.2435 - acc: 0.5749 - val_loss: 1.3955 - val_acc: 0.5321\n",
      "Epoch 17/20\n",
      "6250/6250 [==============================] - 27s 4ms/step - loss: 1.2377 - acc: 0.5755 - val_loss: 1.3345 - val_acc: 0.5412\n",
      "Epoch 18/20\n",
      "6250/6250 [==============================] - 30s 5ms/step - loss: 1.2349 - acc: 0.5784 - val_loss: 1.2807 - val_acc: 0.5684\n",
      "Epoch 19/20\n",
      "6250/6250 [==============================] - 27s 4ms/step - loss: 1.2296 - acc: 0.5786 - val_loss: 1.2929 - val_acc: 0.5602\n",
      "Epoch 20/20\n",
      "6250/6250 [==============================] - 30s 5ms/step - loss: 1.2261 - acc: 0.5807 - val_loss: 1.2886 - val_acc: 0.5583\n"
     ]
    },
    {
     "data": {
      "text/plain": [
       "<keras.callbacks.History at 0x7fb3a01312d0>"
      ]
     },
     "execution_count": 9,
     "metadata": {},
     "output_type": "execute_result"
    }
   ],
   "source": [
    "model.fit(x=train_inputs,\n",
    "          y=train_labels,\n",
    "          batch_size=8,\n",
    "          epochs=20,\n",
    "          validation_data=(test_inputs,test_labels))"
   ]
  },
  {
   "cell_type": "markdown",
   "metadata": {
    "id": "e7a7YVk59PP-"
   },
   "source": [
    "<h2>Week 10 Practice</h2>"
   ]
  },
  {
   "cell_type": "code",
   "execution_count": 10,
   "metadata": {
    "id": "D2XEDlWi87wW"
   },
   "outputs": [],
   "source": [
    "model = keras.Sequential([\n",
    "                          keras.Input(shape=(32,32,3)),\n",
    "                          keras.layers.Flatten(),\n",
    "                          keras.layers.Dense(128,activation='relu'),\n",
    "                          keras.layers.Dense(10,activation='softmax'),\n",
    "                          ])"
   ]
  },
  {
   "cell_type": "code",
   "execution_count": 11,
   "metadata": {
    "colab": {
     "base_uri": "https://localhost:8080/"
    },
    "id": "CQ23XiVv9BuI",
    "outputId": "3af2b4ac-07df-44e8-f6a3-f3613b08ac68"
   },
   "outputs": [
    {
     "name": "stdout",
     "output_type": "stream",
     "text": [
      "Model: \"sequential_1\"\n",
      "_________________________________________________________________\n",
      " Layer (type)                Output Shape              Param #   \n",
      "=================================================================\n",
      " flatten_1 (Flatten)         (None, 3072)              0         \n",
      "                                                                 \n",
      " dense_1 (Dense)             (None, 128)               393344    \n",
      "                                                                 \n",
      " dense_2 (Dense)             (None, 10)                1290      \n",
      "                                                                 \n",
      "=================================================================\n",
      "Total params: 394,634\n",
      "Trainable params: 394,634\n",
      "Non-trainable params: 0\n",
      "_________________________________________________________________\n"
     ]
    }
   ],
   "source": [
    "model.summary()"
   ]
  },
  {
   "cell_type": "code",
   "execution_count": 12,
   "metadata": {
    "colab": {
     "base_uri": "https://localhost:8080/"
    },
    "id": "iiuPJYSy9BwP",
    "outputId": "29dcae7f-6502-4242-b2dc-0b8ac0dde4de"
   },
   "outputs": [
    {
     "name": "stdout",
     "output_type": "stream",
     "text": [
      "tf.Tensor([[0.23137255 0.24313726 0.24705882 ... 0.48235294 0.36078432 0.28235295]], shape=(1, 3072), dtype=float32)\n"
     ]
    }
   ],
   "source": [
    "model_flatten = tf.keras.Model(inputs=model.input, outputs=model.layers[0].output)\n",
    "test_output1 = model_flatten(tf.expand_dims(train_inputs[0],axis=0))\n",
    "print(test_output1)"
   ]
  },
  {
   "cell_type": "code",
   "execution_count": 13,
   "metadata": {
    "colab": {
     "base_uri": "https://localhost:8080/"
    },
    "id": "Xv6lJKpB9Bye",
    "outputId": "c6803197-b5c2-4ee1-b1bd-258cade49168"
   },
   "outputs": [
    {
     "name": "stdout",
     "output_type": "stream",
     "text": [
      "tf.Tensor(\n",
      "[[0.9867406  0.         0.         0.         0.6484935  0.\n",
      "  0.         0.05707669 0.12842438 0.15441097 0.89582616 0.\n",
      "  0.         0.09603086 0.21946645 0.         0.49707627 0.62868834\n",
      "  0.33621433 0.         0.         0.         0.32056332 0.49144825\n",
      "  0.         1.5183632  0.         0.         1.3587449  0.8421246\n",
      "  0.3636838  0.         0.         0.1458044  0.         0.\n",
      "  0.79588014 0.17663608 0.56010437 0.         0.         0.02585477\n",
      "  0.         0.08282121 0.         1.0455151  0.         0.26582402\n",
      "  0.         0.02241808 0.         0.39617586 0.         0.19015062\n",
      "  0.73290515 0.36241588 0.         0.         0.21619943 0.67687964\n",
      "  0.         0.9617567  0.         0.22869447 0.247407   0.28242642\n",
      "  0.         0.47955164 0.         0.         0.3584804  0.\n",
      "  0.         0.19311586 0.3284836  0.93151355 0.63956535 0.\n",
      "  0.2998563  0.         0.         0.15617545 0.         0.05831589\n",
      "  0.         0.         0.         0.29477662 0.         0.\n",
      "  0.         0.44489247 0.20382178 0.37719446 0.         1.0488446\n",
      "  0.01883422 1.2753968  0.20644084 0.9968674  0.22726697 0.\n",
      "  0.         0.         0.         0.         0.22241363 0.9054777\n",
      "  1.4957907  0.         0.         1.1490432  0.19568294 0.22440924\n",
      "  0.4197986  0.         0.09509918 0.         0.         0.\n",
      "  0.         0.96746933 0.         0.73498315 0.96301514 0.\n",
      "  0.86115265 0.99074775]], shape=(1, 128), dtype=float32)\n"
     ]
    }
   ],
   "source": [
    "model_dense1 = tf.keras.Model(inputs=model.input, outputs=model.layers[1].output)\n",
    "test_output2 = model_dense1(tf.expand_dims(train_inputs[0],axis=0))\n",
    "print(test_output2)"
   ]
  },
  {
   "cell_type": "code",
   "execution_count": 14,
   "metadata": {
    "colab": {
     "base_uri": "https://localhost:8080/"
    },
    "id": "StmX2SFn87ym",
    "outputId": "240e82cb-969a-4dfd-d726-87666c4fb7e5"
   },
   "outputs": [
    {
     "name": "stdout",
     "output_type": "stream",
     "text": [
      "tf.Tensor(\n",
      "[[0.09826849 0.04889492 0.15180488 0.11204456 0.11409294 0.12559976\n",
      "  0.03714223 0.09867008 0.09089244 0.12258971]], shape=(1, 10), dtype=float32)\n"
     ]
    }
   ],
   "source": [
    "model_dense2 = tf.keras.Model(inputs=model.input, outputs=model.layers[2].output)\n",
    "test_output3 = model_dense2(tf.expand_dims(train_inputs[0],axis=0))\n",
    "print(test_output3)"
   ]
  },
  {
   "cell_type": "code",
   "execution_count": 15,
   "metadata": {
    "id": "L9-E8not9Fsu"
   },
   "outputs": [],
   "source": [
    "model.compile(optimizer='Adam',\n",
    "              loss=keras.losses.SparseCategoricalCrossentropy(from_logits=True),\n",
    "              metrics=['acc'])"
   ]
  },
  {
   "cell_type": "code",
   "execution_count": 16,
   "metadata": {
    "colab": {
     "base_uri": "https://localhost:8080/"
    },
    "id": "OwfXwkDC9Fu3",
    "outputId": "62e620a5-82c5-4f2d-a7f9-2bb1e5bb55a2"
   },
   "outputs": [
    {
     "name": "stdout",
     "output_type": "stream",
     "text": [
      "Epoch 1/20\n"
     ]
    },
    {
     "name": "stderr",
     "output_type": "stream",
     "text": [
      "/usr/local/lib/python3.7/dist-packages/tensorflow/python/util/dispatch.py:1096: UserWarning: \"`sparse_categorical_crossentropy` received `from_logits=True`, but the `output` argument was produced by a sigmoid or softmax activation and thus does not represent logits. Was this intended?\"\n",
      "  return dispatch_target(*args, **kwargs)\n"
     ]
    },
    {
     "name": "stdout",
     "output_type": "stream",
     "text": [
      "6250/6250 [==============================] - 21s 3ms/step - loss: 1.9369 - acc: 0.2793 - val_loss: 1.8756 - val_acc: 0.2937\n",
      "Epoch 2/20\n",
      "6250/6250 [==============================] - 21s 3ms/step - loss: 1.8551 - acc: 0.3174 - val_loss: 1.8221 - val_acc: 0.3259\n",
      "Epoch 3/20\n",
      "6250/6250 [==============================] - 21s 3ms/step - loss: 1.8330 - acc: 0.3278 - val_loss: 1.7960 - val_acc: 0.3452\n",
      "Epoch 4/20\n",
      "6250/6250 [==============================] - 21s 3ms/step - loss: 1.8152 - acc: 0.3344 - val_loss: 1.8292 - val_acc: 0.3250\n",
      "Epoch 5/20\n",
      "6250/6250 [==============================] - 21s 3ms/step - loss: 1.8040 - acc: 0.3365 - val_loss: 1.8085 - val_acc: 0.3298\n",
      "Epoch 6/20\n",
      "6250/6250 [==============================] - 21s 3ms/step - loss: 1.7950 - acc: 0.3406 - val_loss: 1.8041 - val_acc: 0.3303\n",
      "Epoch 7/20\n",
      "6250/6250 [==============================] - 21s 3ms/step - loss: 1.7894 - acc: 0.3413 - val_loss: 1.8087 - val_acc: 0.3369\n",
      "Epoch 8/20\n",
      "6250/6250 [==============================] - 21s 3ms/step - loss: 1.7800 - acc: 0.3452 - val_loss: 1.7824 - val_acc: 0.3488\n",
      "Epoch 9/20\n",
      "6250/6250 [==============================] - 21s 3ms/step - loss: 1.7758 - acc: 0.3481 - val_loss: 1.7860 - val_acc: 0.3369\n",
      "Epoch 10/20\n",
      "6250/6250 [==============================] - 21s 3ms/step - loss: 1.7710 - acc: 0.3510 - val_loss: 1.7870 - val_acc: 0.3392\n",
      "Epoch 11/20\n",
      "6250/6250 [==============================] - 21s 3ms/step - loss: 1.7681 - acc: 0.3520 - val_loss: 1.7821 - val_acc: 0.3488\n",
      "Epoch 12/20\n",
      "6250/6250 [==============================] - 21s 3ms/step - loss: 1.7628 - acc: 0.3553 - val_loss: 1.8374 - val_acc: 0.3180\n",
      "Epoch 13/20\n",
      "6250/6250 [==============================] - 21s 3ms/step - loss: 1.7570 - acc: 0.3553 - val_loss: 1.7930 - val_acc: 0.3448\n",
      "Epoch 14/20\n",
      "6250/6250 [==============================] - 21s 3ms/step - loss: 1.7572 - acc: 0.3582 - val_loss: 1.7697 - val_acc: 0.3446\n",
      "Epoch 15/20\n",
      "6250/6250 [==============================] - 21s 3ms/step - loss: 1.7546 - acc: 0.3605 - val_loss: 1.7801 - val_acc: 0.3413\n",
      "Epoch 16/20\n",
      "6250/6250 [==============================] - 21s 3ms/step - loss: 1.7515 - acc: 0.3628 - val_loss: 1.7625 - val_acc: 0.3489\n",
      "Epoch 17/20\n",
      "6250/6250 [==============================] - 21s 3ms/step - loss: 1.7502 - acc: 0.3618 - val_loss: 1.7744 - val_acc: 0.3453\n",
      "Epoch 18/20\n",
      "6250/6250 [==============================] - 21s 3ms/step - loss: 1.7494 - acc: 0.3615 - val_loss: 1.7820 - val_acc: 0.3482\n",
      "Epoch 19/20\n",
      "6250/6250 [==============================] - 21s 3ms/step - loss: 1.7469 - acc: 0.3631 - val_loss: 1.7750 - val_acc: 0.3593\n",
      "Epoch 20/20\n",
      "6250/6250 [==============================] - 21s 3ms/step - loss: 1.7465 - acc: 0.3638 - val_loss: 1.8152 - val_acc: 0.3413\n"
     ]
    },
    {
     "data": {
      "text/plain": [
       "<keras.callbacks.History at 0x7fb32e3a8950>"
      ]
     },
     "execution_count": 16,
     "metadata": {},
     "output_type": "execute_result"
    }
   ],
   "source": [
    "model.fit(x=train_inputs,\n",
    "          y=train_labels,\n",
    "          batch_size=8,\n",
    "          epochs=20,\n",
    "          validation_data=(test_inputs,test_labels))"
   ]
  }
 ],
 "metadata": {
  "accelerator": "GPU",
  "colab": {
   "collapsed_sections": [],
   "name": "[CG]201702052_이동헌_week10_report.ipynb",
   "provenance": []
  },
  "kernelspec": {
   "display_name": "Python 3 (ipykernel)",
   "language": "python",
   "name": "python3"
  },
  "language_info": {
   "codemirror_mode": {
    "name": "ipython",
    "version": 3
   },
   "file_extension": ".py",
   "mimetype": "text/x-python",
   "name": "python",
   "nbconvert_exporter": "python",
   "pygments_lexer": "ipython3",
   "version": "3.8.5"
  }
 },
 "nbformat": 4,
 "nbformat_minor": 1
}
