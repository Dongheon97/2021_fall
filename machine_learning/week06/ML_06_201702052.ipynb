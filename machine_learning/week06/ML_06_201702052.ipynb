{
 "cells": [
  {
   "cell_type": "markdown",
   "metadata": {},
   "source": [
    "<h1>Machine Learning Week06 : K-Means Clustering</h1>"
   ]
  },
  {
   "cell_type": "code",
   "execution_count": 18,
   "metadata": {},
   "outputs": [
    {
     "name": "stdout",
     "output_type": "stream",
     "text": [
      "       0    1    2    3  4\n",
      "0    5.1  3.5  1.4  0.2  1\n",
      "1    4.9  3.0  1.4  0.2  1\n",
      "2    4.7  3.2  1.3  0.2  1\n",
      "3    4.6  3.1  1.5  0.2  1\n",
      "4    5.0  3.6  1.4  0.2  1\n",
      "..   ...  ...  ...  ... ..\n",
      "145  6.7  3.0  5.2  2.3  3\n",
      "146  6.3  2.5  5.0  1.9  3\n",
      "147  6.5  3.0  5.2  2.0  3\n",
      "148  6.2  3.4  5.4  2.3  3\n",
      "149  5.9  3.0  5.1  1.8  3\n",
      "\n",
      "[150 rows x 5 columns]\n"
     ]
    }
   ],
   "source": [
    "import numpy as np\n",
    "import pandas as pd\n",
    "from sklearn.cluster import KMeans\n",
    "from sklearn.metrics.cluster import adjusted_rand_score\n",
    "from matplotlib import pyplot as plt\n",
    "\n",
    "iris = pd.read_csv('./iris.csv', header=None)\n",
    "#dataset = np.array(iris)\n",
    "print(iris)\n",
    "#print(dataset)"
   ]
  },
  {
   "cell_type": "markdown",
   "metadata": {},
   "source": [
    "<h2>HW1. Original Iris Data</h2>"
   ]
  },
  {
   "cell_type": "code",
   "execution_count": 19,
   "metadata": {},
   "outputs": [
    {
     "data": {
      "image/png": "[encoded data removed]",
      "text/plain": [
       "<Figure size 432x288 with 1 Axes>"
      ]
     },
     "metadata": {
      "needs_background": "light"
     },
     "output_type": "display_data"
    }
   ],
   "source": [
    "group_1 = iris[4] == 1\n",
    "group_2 = iris[4] == 2\n",
    "group_3 = iris[4] == 3\n",
    "\n",
    "# x = iris[0], y = iris[1]\n",
    "plt.scatter(iris[0], iris[1], group_1, c='r')\n",
    "plt.scatter(iris[0], iris[1], group_2, c='g')\n",
    "plt.scatter(iris[0], iris[1], group_3, c='b')\n",
    "plt.show()"
   ]
  },
  {
   "cell_type": "markdown",
   "metadata": {},
   "source": [
    "<h2>HW2. K-Means Clustering</h2>"
   ]
  },
  {
   "cell_type": "code",
   "execution_count": 20,
   "metadata": {
    "scrolled": true
   },
   "outputs": [
    {
     "data": {
      "image/png": "[encoded data removed]",
      "text/plain": [
       "<Figure size 432x288 with 1 Axes>"
      ]
     },
     "metadata": {
      "needs_background": "light"
     },
     "output_type": "display_data"
    },
    {
     "name": "stdout",
     "output_type": "stream",
     "text": [
      "4\n",
      "0.7302382722834697\n"
     ]
    }
   ],
   "source": [
    "dataset = np.array(iris)\n",
    "training = dataset[:, 0:4]\n",
    "#print(training)\n",
    "\n",
    "model = KMeans(n_clusters=3, random_state=0)\n",
    "\n",
    "# iris에 담긴 각 훈련데이터 포인트에 클러스터 레이블이 할당된다.\n",
    "model.fit(training)\n",
    "\n",
    "# 학습된 모델의 target 정보는 KMeans 클래스 객체의 labels_ 속성에 저장\n",
    "#print(model.labels_)\n",
    "\n",
    "# x = iris[0], y = iris[1]\n",
    "plt.scatter(iris[0], iris[1], model.labels_==0, c='g')\n",
    "plt.scatter(iris[0], iris[1], model.labels_==1, c='r')\n",
    "plt.scatter(iris[0], iris[1], model.labels_==2, c='b')\n",
    "plt.show()\n",
    "\n",
    "# 학습된 모델의 알고리즘이 반복한 횟수는 KMeans 클래스 객체의 n_iter_ 속성에 저장\n",
    "print(model.n_iter_)\n",
    "\n",
    "print(adjusted_rand_score(iris[4], model.labels_))"
   ]
  },
  {
   "cell_type": "markdown",
   "metadata": {},
   "source": [
    "<h2>HW3. Compare k values</h2>"
   ]
  },
  {
   "cell_type": "code",
   "execution_count": 21,
   "metadata": {},
   "outputs": [
    {
     "name": "stdout",
     "output_type": "stream",
     "text": [
      "n clusters가 2일 때: 0.54\n",
      "n clusters가 3일 때: 0.73\n",
      "n clusters가 4일 때: 0.65\n",
      "n clusters가 5일 때: 0.62\n",
      "n clusters가 6일 때: 0.45\n"
     ]
    }
   ],
   "source": [
    "# 비지도 학습의 결과를 실제 정답 cluster와 비교하여 평가할 수 있는 지표\n",
    "# 2개의 클러스터링 결과를 비교할 때도 사용\n",
    "\n",
    "model_2 = KMeans(n_clusters=2, random_state=0)\n",
    "model_2.fit(training)\n",
    "print(\"n clusters가 2일 때: {:.2f}\".format(adjusted_rand_score(iris[4], model_2.labels_)))\n",
    "\n",
    "model_3 = KMeans(n_clusters=3, random_state=0)\n",
    "model_3.fit(training)\n",
    "print(\"n clusters가 3일 때: {:.2f}\".format(adjusted_rand_score(iris[4], model_3.labels_)))\n",
    "\n",
    "model_4 = KMeans(n_clusters=4, random_state=0)\n",
    "model_4.fit(training)\n",
    "print(\"n clusters가 4일 때: {:.2f}\".format(adjusted_rand_score(iris[4], model_4.labels_)))\n",
    "\n",
    "model_5 = KMeans(n_clusters=5, random_state=0)\n",
    "model_5.fit(training)\n",
    "print(\"n clusters가 5일 때: {:.2f}\".format(adjusted_rand_score(iris[4], model_5.labels_)))\n",
    "\n",
    "model_6 = KMeans(n_clusters=6, random_state=0)\n",
    "model_6.fit(training)\n",
    "print(\"n clusters가 6일 때: {:.2f}\".format(adjusted_rand_score(iris[4], model_6.labels_)))"
   ]
  }
 ],
 "metadata": {
  "kernelspec": {
   "display_name": "Python 3 (ipykernel)",
   "language": "python",
   "name": "python3"
  },
  "language_info": {
   "codemirror_mode": {
    "name": "ipython",
    "version": 3
   },
   "file_extension": ".py",
   "mimetype": "text/x-python",
   "name": "python",
   "nbconvert_exporter": "python",
   "pygments_lexer": "ipython3",
   "version": "3.8.5"
  }
 },
 "nbformat": 4,
 "nbformat_minor": 4
}
