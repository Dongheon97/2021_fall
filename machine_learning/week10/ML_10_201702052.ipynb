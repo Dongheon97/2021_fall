{
 "cells": [
  {
   "cell_type": "markdown",
   "id": "b2e6ea91",
   "metadata": {},
   "source": [
    "<h1>ML 10 MLPClassifier - 201702052 Lee Dongheon</h1>"
   ]
  },
  {
   "cell_type": "markdown",
   "id": "5fa214e6",
   "metadata": {},
   "source": [
    "<h2>Import Data</h2>"
   ]
  },
  {
   "cell_type": "code",
   "execution_count": 1,
   "id": "472120d6",
   "metadata": {},
   "outputs": [],
   "source": [
    "from sklearn.neural_network import MLPClassifier\n",
    "from sklearn.datasets import fetch_openml\n",
    "from sklearn.model_selection import train_test_split\n",
    "#import matplotlib.pyplot as plt\n",
    "import mglearn\n",
    "import numpy as np\n",
    "\n",
    "mnist = fetch_openml('mnist_784')"
   ]
  },
  {
   "cell_type": "markdown",
   "id": "1d9fc94f",
   "metadata": {},
   "source": [
    "<h2>MNIST Data Pre-Processing : Extration of '1', '5', '8'</h2>"
   ]
  },
  {
   "cell_type": "code",
   "execution_count": 2,
   "id": "a5cd07a1",
   "metadata": {},
   "outputs": [
    {
     "name": "stdout",
     "output_type": "stream",
     "text": [
      "21015\n",
      "21015\n"
     ]
    }
   ],
   "source": [
    "mnist_1 = mnist['target'] =='1'\n",
    "mnist_5 = mnist['target'] =='5'\n",
    "mnist_8 = mnist['target'] =='8'\n",
    "\n",
    "# data preprocessing for Train\n",
    "data = mnist['data'].to_numpy()\n",
    "\n",
    "data_1 = data[mnist_1]\n",
    "data_5 = data[mnist_5]\n",
    "data_8 = data[mnist_8]\n",
    "\n",
    "# data preprocessing for Train\n",
    "target = mnist['target'].to_numpy()\n",
    "\n",
    "target_1 = target[mnist_1]\n",
    "target_5 = target[mnist_5]\n",
    "target_8 = target[mnist_8]\n",
    "\n",
    "print(len(data_1) + len(data_5) + len(data_8))\n",
    "print(len(target_1) + len(target_5) + len(target_8))\n"
   ]
  },
  {
   "cell_type": "markdown",
   "id": "2702c983",
   "metadata": {},
   "source": [
    "<h2>Merge Data : '1' + '5' + '8' </h2>"
   ]
  },
  {
   "cell_type": "code",
   "execution_count": 3,
   "id": "5fb5ae0d",
   "metadata": {},
   "outputs": [
    {
     "name": "stdout",
     "output_type": "stream",
     "text": [
      "21015\n",
      "21015\n"
     ]
    }
   ],
   "source": [
    "# concat\n",
    "X = np.concatenate((data_1, data_5))\n",
    "X = np.concatenate((X, data_8))\n",
    "y = np.concatenate((target_1, target_5))\n",
    "y = np.concatenate((y, target_8))\n",
    "\n",
    "print(len(X))\n",
    "print(len(y))\n"
   ]
  },
  {
   "cell_type": "markdown",
   "id": "66b9c7e5",
   "metadata": {},
   "source": [
    "<h2>Train : Validation : Test = 70 : 10 : 20</h2>"
   ]
  },
  {
   "cell_type": "code",
   "execution_count": 4,
   "id": "c9efde85",
   "metadata": {},
   "outputs": [],
   "source": [
    "x_continue, x_test, y_continue, y_test = train_test_split(X, y, test_size=0.2, random_state=0)\n",
    "\n",
    "x_train, x_val, y_train, y_val = train_test_split(x_continue, y_continue, test_size=0.125, random_state=0)"
   ]
  },
  {
   "cell_type": "markdown",
   "id": "78b94c01",
   "metadata": {},
   "source": [
    "<h2>Data Check : Split</h2>"
   ]
  },
  {
   "cell_type": "code",
   "execution_count": 5,
   "id": "74c105cf",
   "metadata": {},
   "outputs": [
    {
     "name": "stdout",
     "output_type": "stream",
     "text": [
      "14710\n",
      "2102\n",
      "4203\n",
      "14710\n",
      "2102\n",
      "4203\n"
     ]
    }
   ],
   "source": [
    "# Data\n",
    "print(len(x_train))\n",
    "print(len(x_val))\n",
    "print(len(x_test))\n",
    "\n",
    "# Target\n",
    "print(len(y_train))\n",
    "print(len(y_val))\n",
    "print(len(y_test))"
   ]
  },
  {
   "cell_type": "markdown",
   "id": "ec583c68",
   "metadata": {},
   "source": [
    "<h2>Make Models</h2>"
   ]
  },
  {
   "cell_type": "code",
   "execution_count": 6,
   "id": "1a88a8f5",
   "metadata": {},
   "outputs": [],
   "source": [
    "#MLPClassifier(activation='relu/sigmoid', solver='adam/sgd', hidden_layer_sizes=[10,10]/[10,10,10])\n",
    "relu_adam_2 = MLPClassifier(activation='relu', solver='adam', hidden_layer_sizes=[10,10], random_state=42)\n",
    "relu_adam_3 = MLPClassifier(activation='relu', solver='adam', hidden_layer_sizes=[10,10,10], random_state=42)\n",
    "\n",
    "relu_sgd_2 = MLPClassifier(activation='relu', solver='sgd', hidden_layer_sizes=[10,10], random_state=42)\n",
    "relu_sgd_3 = MLPClassifier(activation='relu', solver='sgd', hidden_layer_sizes=[10,10,10], random_state=42)\n",
    "\n",
    "sigmoid_adam_2 = MLPClassifier(activation='logistic', solver='adam', hidden_layer_sizes=[10,10], random_state=42)\n",
    "sigmoid_adam_3 = MLPClassifier(activation='logistic', solver='adam', hidden_layer_sizes=[10,10,10], random_state=42)\n",
    "\n",
    "sigmoid_sgd_2 = MLPClassifier(activation='logistic', solver='sgd', hidden_layer_sizes=[10,10], random_state=42)\n",
    "sigmoid_sgd_3 = MLPClassifier(activation='logistic', solver='sgd', hidden_layer_sizes=[10,10,10], random_state=42)"
   ]
  },
  {
   "cell_type": "markdown",
   "id": "a4782a79",
   "metadata": {},
   "source": [
    "<h2>Training Models</h2>"
   ]
  },
  {
   "cell_type": "code",
   "execution_count": 7,
   "id": "70ae9852",
   "metadata": {},
   "outputs": [
    {
     "name": "stderr",
     "output_type": "stream",
     "text": [
      "/Users/dongheon/Library/Python/3.9/lib/python/site-packages/sklearn/neural_network/_multilayer_perceptron.py:692: ConvergenceWarning: Stochastic Optimizer: Maximum iterations (200) reached and the optimization hasn't converged yet.\n",
      "  warnings.warn(\n",
      "/Users/dongheon/Library/Python/3.9/lib/python/site-packages/sklearn/neural_network/_multilayer_perceptron.py:692: ConvergenceWarning: Stochastic Optimizer: Maximum iterations (200) reached and the optimization hasn't converged yet.\n",
      "  warnings.warn(\n"
     ]
    },
    {
     "data": {
      "text/plain": [
       "MLPClassifier(activation='logistic', hidden_layer_sizes=[10, 10, 10],\n",
       "              random_state=42, solver='sgd')"
      ]
     },
     "execution_count": 7,
     "metadata": {},
     "output_type": "execute_result"
    }
   ],
   "source": [
    "relu_adam_2.fit(x_train, y_train)\n",
    "relu_adam_3.fit(x_train, y_train)\n",
    "\n",
    "relu_sgd_2.fit(x_train, y_train)\n",
    "relu_sgd_3.fit(x_train, y_train)\n",
    "\n",
    "sigmoid_adam_2.fit(x_train, y_train)\n",
    "sigmoid_adam_3.fit(x_train, y_train)\n",
    "\n",
    "sigmoid_sgd_2.fit(x_train, y_train)\n",
    "sigmoid_sgd_3.fit(x_train, y_train)"
   ]
  },
  {
   "cell_type": "markdown",
   "id": "75eeb448",
   "metadata": {},
   "source": [
    "\n",
    "<h2>Check Models' Accuracy</h2>"
   ]
  },
  {
   "cell_type": "code",
   "execution_count": 8,
   "id": "f63cce25",
   "metadata": {},
   "outputs": [
    {
     "name": "stdout",
     "output_type": "stream",
     "text": [
      "relu_adam_2의 validtaion 세트 정확도:0.98\n",
      "relu_adam_3의 validtaion 세트 정확도:0.97\n",
      "relu_sgd_2의 validtaion 세트 정확도:0.66\n",
      "relu_sgd_3의 validtaion 세트 정확도:0.95\n",
      "sigmoid_adam_2의 validtaion 세트 정확도:0.97\n",
      "sigmoid_adam_3의 validtaion 세트 정확도:0.97\n",
      "sigmoid_sgd_2의 validtaion 세트 정확도:0.96\n",
      "sigmoid_sgd_3의 validtaion 세트 정확도:0.67\n"
     ]
    }
   ],
   "source": [
    "print(\"relu_adam_2의 validtaion 세트 정확도:{:.2f}\".format(relu_adam_2.score(x_val, y_val)))\n",
    "print(\"relu_adam_3의 validtaion 세트 정확도:{:.2f}\".format(relu_adam_3.score(x_val, y_val)))\n",
    "\n",
    "print(\"relu_sgd_2의 validtaion 세트 정확도:{:.2f}\".format(relu_sgd_2.score(x_val, y_val)))\n",
    "print(\"relu_sgd_3의 validtaion 세트 정확도:{:.2f}\".format(relu_sgd_3.score(x_val, y_val)))\n",
    "\n",
    "print(\"sigmoid_adam_2의 validtaion 세트 정확도:{:.2f}\".format(sigmoid_adam_2.score(x_val, y_val)))\n",
    "print(\"sigmoid_adam_3의 validtaion 세트 정확도:{:.2f}\".format(sigmoid_adam_3.score(x_val, y_val)))\n",
    "\n",
    "print(\"sigmoid_sgd_2의 validtaion 세트 정확도:{:.2f}\".format(sigmoid_sgd_2.score(x_val, y_val)))\n",
    "print(\"sigmoid_sgd_3의 validtaion 세트 정확도:{:.2f}\".format(sigmoid_sgd_3.score(x_val, y_val)))"
   ]
  },
  {
   "cell_type": "markdown",
   "id": "c74e0cc9",
   "metadata": {},
   "source": [
    "<h2>Train + Validtaion : Test = 80 : 20</h2>"
   ]
  },
  {
   "cell_type": "code",
   "execution_count": 9,
   "id": "3e4a7d9c",
   "metadata": {},
   "outputs": [
    {
     "name": "stdout",
     "output_type": "stream",
     "text": [
      "Test 세트 정확도:0.98\n"
     ]
    }
   ],
   "source": [
    "X_ = np.concatenate((x_train, x_val))\n",
    "y_ = np.concatenate((y_train, y_val))\n",
    "\n",
    "model = MLPClassifier(activation='relu', solver='adam', hidden_layer_sizes=[10,10], random_state=42)\n",
    "model.fit(X_, y_)\n",
    "\n",
    "print(\"Test 세트 정확도:{:.2f}\".format(relu_adam_2.score(x_test, y_test)))"
   ]
  }
 ],
 "metadata": {
  "kernelspec": {
   "display_name": "Python 3 (ipykernel)",
   "language": "python",
   "name": "python3"
  },
  "language_info": {
   "codemirror_mode": {
    "name": "ipython",
    "version": 3
   },
   "file_extension": ".py",
   "mimetype": "text/x-python",
   "name": "python",
   "nbconvert_exporter": "python",
   "pygments_lexer": "ipython3",
   "version": "3.9.7"
  }
 },
 "nbformat": 4,
 "nbformat_minor": 5
}
