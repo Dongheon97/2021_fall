{
 "cells": [
  {
   "cell_type": "markdown",
   "metadata": {},
   "source": [
    "<h1>ML 08 Text Data</h1>"
   ]
  },
  {
   "cell_type": "markdown",
   "metadata": {},
   "source": [
    "<h2>Import Data</h2>"
   ]
  },
  {
   "cell_type": "code",
   "execution_count": 1,
   "metadata": {},
   "outputs": [],
   "source": [
    "import numpy as np\n",
    "from sklearn.datasets import load_files\n",
    "from sklearn.feature_extraction.text import CountVectorizer\n",
    "from sklearn.feature_extraction.text import ENGLISH_STOP_WORDS\n",
    "from sklearn.linear_model import LogisticRegression\n",
    "from sklearn.model_selection import cross_val_score\n",
    "\n",
    "reviews_train = load_files(\"./aclImdb/train/\")\n",
    "reviews_test = load_files(\"./aclImdb/test/\")"
   ]
  },
  {
   "cell_type": "markdown",
   "metadata": {},
   "source": [
    "<h2>Preprocessing Data</h2>"
   ]
  },
  {
   "cell_type": "code",
   "execution_count": 4,
   "metadata": {},
   "outputs": [],
   "source": [
    "text_train, y_train = reviews_train.data, reviews_train.target\n",
    "text_test, y_test = reviews_test.data, reviews_test.target\n",
    "\n",
    "# eliminate while space\n",
    "text_train = [doc.replace(b\"<br \\>\", b\" \") for doc in text_train]\n",
    "text_test = [doc.replace(b\"<br \\>\", b\" \") for doc in text_test]"
   ]
  },
  {
   "cell_type": "markdown",
   "metadata": {},
   "source": [
    "<h2>Default</h2>"
   ]
  },
  {
   "cell_type": "code",
   "execution_count": 15,
   "metadata": {},
   "outputs": [
    {
     "name": "stdout",
     "output_type": "stream",
     "text": [
      "훈련 세트 점수: 0.981\n",
      "테스트 세트 점수: 0.864\n"
     ]
    },
    {
     "name": "stderr",
     "output_type": "stream",
     "text": [
      "/home/kodo/.local/lib/python3.8/site-packages/sklearn/linear_model/_logistic.py:814: ConvergenceWarning: lbfgs failed to converge (status=1):\n",
      "STOP: TOTAL NO. of ITERATIONS REACHED LIMIT.\n",
      "\n",
      "Increase the number of iterations (max_iter) or scale the data as shown in:\n",
      "    https://scikit-learn.org/stable/modules/preprocessing.html\n",
      "Please also refer to the documentation for alternative solver options:\n",
      "    https://scikit-learn.org/stable/modules/linear_model.html#logistic-regression\n",
      "  n_iter_i = _check_optimize_result(\n"
     ]
    }
   ],
   "source": [
    "# Default\n",
    "vect_1 = CountVectorizer().fit(text_train + text_test)\n",
    "X_train_1 = vect_1.transform(text_train)\n",
    "X_test_1 = vect_1.transform(text_test)\n",
    "\n",
    "logreg_1 = LogisticRegression().fit(X_train_1, y_train)\n",
    "print(\"훈련 세트 점수: {:.3f}\".format(logreg_1.score(X_train_1, y_train)))\n",
    "print(\"테스트 세트 점수: {:.3f}\".format(logreg_1.score(X_test_1, y_test)))"
   ]
  },
  {
   "cell_type": "markdown",
   "metadata": {},
   "source": [
    "<h2>min_df = 5</h2>"
   ]
  },
  {
   "cell_type": "code",
   "execution_count": 16,
   "metadata": {},
   "outputs": [
    {
     "name": "stdout",
     "output_type": "stream",
     "text": [
      "훈련 세트 점수: 0.980\n",
      "테스트 세트 점수: 0.864\n"
     ]
    },
    {
     "name": "stderr",
     "output_type": "stream",
     "text": [
      "/home/kodo/.local/lib/python3.8/site-packages/sklearn/linear_model/_logistic.py:814: ConvergenceWarning: lbfgs failed to converge (status=1):\n",
      "STOP: TOTAL NO. of ITERATIONS REACHED LIMIT.\n",
      "\n",
      "Increase the number of iterations (max_iter) or scale the data as shown in:\n",
      "    https://scikit-learn.org/stable/modules/preprocessing.html\n",
      "Please also refer to the documentation for alternative solver options:\n",
      "    https://scikit-learn.org/stable/modules/linear_model.html#logistic-regression\n",
      "  n_iter_i = _check_optimize_result(\n"
     ]
    }
   ],
   "source": [
    "# min_df = 5 \n",
    "vect_2 = CountVectorizer(min_df=5).fit(text_train + text_test)\n",
    "X_train_2 = vect_2.transform(text_train)\n",
    "X_test_2 = vect_2.transform(text_test)\n",
    "\n",
    "logreg_2 = LogisticRegression().fit(X_train_2, y_train)\n",
    "print(\"훈련 세트 점수: {:.3f}\".format(logreg_2.score(X_train_2, y_train)))\n",
    "print(\"테스트 세트 점수: {:.3f}\".format(logreg_2.score(X_test_2, y_test)))"
   ]
  },
  {
   "cell_type": "markdown",
   "metadata": {},
   "source": [
    "<h2>stop_words = \"english\"</h2>"
   ]
  },
  {
   "cell_type": "code",
   "execution_count": 17,
   "metadata": {},
   "outputs": [
    {
     "name": "stdout",
     "output_type": "stream",
     "text": [
      "훈련 세트 점수: 0.997\n",
      "테스트 세트 점수: 0.858\n"
     ]
    },
    {
     "name": "stderr",
     "output_type": "stream",
     "text": [
      "/home/kodo/.local/lib/python3.8/site-packages/sklearn/linear_model/_logistic.py:814: ConvergenceWarning: lbfgs failed to converge (status=1):\n",
      "STOP: TOTAL NO. of ITERATIONS REACHED LIMIT.\n",
      "\n",
      "Increase the number of iterations (max_iter) or scale the data as shown in:\n",
      "    https://scikit-learn.org/stable/modules/preprocessing.html\n",
      "Please also refer to the documentation for alternative solver options:\n",
      "    https://scikit-learn.org/stable/modules/linear_model.html#logistic-regression\n",
      "  n_iter_i = _check_optimize_result(\n"
     ]
    }
   ],
   "source": [
    "# stop_words = \"english\"\n",
    "vect_3 = CountVectorizer(stop_words=\"english\").fit(text_train + text_test)\n",
    "X_train_3 = vect_3.transform(text_train)\n",
    "X_test_3 = vect_3.transform(text_test)\n",
    "\n",
    "logreg_3 = LogisticRegression().fit(X_train_3, y_train)\n",
    "print(\"훈련 세트 점수: {:.3f}\".format(logreg_3.score(X_train_3, y_train)))\n",
    "print(\"테스트 세트 점수: {:.3f}\".format(logreg_3.score(X_test_3, y_test)))"
   ]
  },
  {
   "cell_type": "markdown",
   "metadata": {},
   "source": [
    "<h2>min_df = 5, stop_words = \"english</h2>"
   ]
  },
  {
   "cell_type": "code",
   "execution_count": 18,
   "metadata": {},
   "outputs": [
    {
     "name": "stdout",
     "output_type": "stream",
     "text": [
      "훈련 세트 점수: 0.996\n",
      "테스트 세트 점수: 0.856\n"
     ]
    },
    {
     "name": "stderr",
     "output_type": "stream",
     "text": [
      "/home/kodo/.local/lib/python3.8/site-packages/sklearn/linear_model/_logistic.py:814: ConvergenceWarning: lbfgs failed to converge (status=1):\n",
      "STOP: TOTAL NO. of ITERATIONS REACHED LIMIT.\n",
      "\n",
      "Increase the number of iterations (max_iter) or scale the data as shown in:\n",
      "    https://scikit-learn.org/stable/modules/preprocessing.html\n",
      "Please also refer to the documentation for alternative solver options:\n",
      "    https://scikit-learn.org/stable/modules/linear_model.html#logistic-regression\n",
      "  n_iter_i = _check_optimize_result(\n"
     ]
    }
   ],
   "source": [
    "# min_df = 5, stop_words = \"english\"\n",
    "vect_4 = CountVectorizer(min_df=5, stop_words=\"english\").fit(text_train + text_test)\n",
    "X_train_4 = vect_4.transform(text_train)\n",
    "X_test_4 = vect_4.transform(text_test)\n",
    "\n",
    "logreg_4 = LogisticRegression().fit(X_train_4, y_train)\n",
    "print(\"훈련 세트 점수: {:.3f}\".format(logreg_4.score(X_train_4, y_train)))\n",
    "print(\"테스트 세트 점수: {:.3f}\".format(logreg_4.score(X_test_4, y_test)))"
   ]
  }
 ],
 "metadata": {
  "kernelspec": {
   "display_name": "Python 3 (ipykernel)",
   "language": "python",
   "name": "python3"
  },
  "language_info": {
   "codemirror_mode": {
    "name": "ipython",
    "version": 3
   },
   "file_extension": ".py",
   "mimetype": "text/x-python",
   "name": "python",
   "nbconvert_exporter": "python",
   "pygments_lexer": "ipython3",
   "version": "3.8.5"
  }
 },
 "nbformat": 4,
 "nbformat_minor": 4
}
