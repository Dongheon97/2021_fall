{
 "cells": [
  {
   "cell_type": "markdown",
   "metadata": {
    "id": "IQpptgJREt-R"
   },
   "source": [
    "<h1>Computer Graphics week10 : Convolution Layer</h1>"
   ]
  },
  {
   "cell_type": "markdown",
   "metadata": {},
   "source": [
    "<h2>201702052 Lee Dongheon</h2>"
   ]
  },
  {
   "cell_type": "code",
   "execution_count": 1,
   "metadata": {
    "id": "cZ7KR5wf8tsm"
   },
   "outputs": [],
   "source": [
    "import tensorflow as tf\n",
    "from tensorflow import keras\n",
    "import matplotlib.pyplot as plt\n",
    "import numpy as np"
   ]
  },
  {
   "cell_type": "code",
   "execution_count": 2,
   "metadata": {
    "colab": {
     "base_uri": "https://localhost:8080/"
    },
    "id": "rrve_U9_87cu",
    "outputId": "a05716e1-2a59-4656-c2b2-410a0048001e"
   },
   "outputs": [],
   "source": [
    "cifar10 = tf.keras.datasets.cifar10\n",
    "\n",
    "(train_inputs, train_labels), (test_inputs, test_labels) = cifar10.load_data()"
   ]
  },
  {
   "cell_type": "code",
   "execution_count": 3,
   "metadata": {
    "colab": {
     "base_uri": "https://localhost:8080/"
    },
    "id": "MPZSy_E887ey",
    "outputId": "616031c0-8abd-451a-db5b-4ecfdaceb499"
   },
   "outputs": [
    {
     "name": "stdout",
     "output_type": "stream",
     "text": [
      "(50000, 32, 32, 3)\n",
      "(50000, 1)\n"
     ]
    }
   ],
   "source": [
    "print(train_inputs.shape)\n",
    "print(train_labels.shape)"
   ]
  },
  {
   "cell_type": "code",
   "execution_count": 4,
   "metadata": {
    "colab": {
     "base_uri": "https://localhost:8080/",
     "height": 266
    },
    "id": "1AFnR1Bw87g6",
    "outputId": "b3a7ea98-01e8-4c76-816d-37aef8e4238a"
   },
   "outputs": [
    {
     "data": {
      "image/png": "[encoded data removed]",
      "text/plain": [
       "<Figure size 432x288 with 1 Axes>"
      ]
     },
     "metadata": {
      "needs_background": "light"
     },
     "output_type": "display_data"
    }
   ],
   "source": [
    "plt.imshow(train_inputs[0])\n",
    "plt.show()"
   ]
  },
  {
   "cell_type": "code",
   "execution_count": 5,
   "metadata": {
    "id": "J_UTAJ7C87jg"
   },
   "outputs": [],
   "source": [
    "train_inputs = train_inputs / 255.0\n",
    "test_inputs = test_inputs / 255.0"
   ]
  },
  {
   "cell_type": "markdown",
   "metadata": {
    "id": "8GBVOjXX9LqN"
   },
   "source": [
    "<h2>Week 10 Homework : Convolution Layer</h2>"
   ]
  },
  {
   "cell_type": "markdown",
   "metadata": {
    "id": "eMIaWRvTFP5D"
   },
   "source": [
    "<h3>input(32, 32, 3) -> Conv2D(28, 28, 12) -> Pooling -> Conv2D(10, 10, 8) -> output(10)</h3>"
   ]
  },
  {
   "cell_type": "code",
   "execution_count": 6,
   "metadata": {
    "id": "0V00IWuo87l7"
   },
   "outputs": [
    {
     "name": "stdout",
     "output_type": "stream",
     "text": [
      "Metal device set to: Apple M1 Max\n"
     ]
    },
    {
     "name": "stderr",
     "output_type": "stream",
     "text": [
      "2022-01-02 19:11:03.378993: I tensorflow/core/common_runtime/pluggable_device/pluggable_device_factory.cc:305] Could not identify NUMA node of platform GPU ID 0, defaulting to 0. Your kernel may not have been built with NUMA support.\n",
      "2022-01-02 19:11:03.379101: I tensorflow/core/common_runtime/pluggable_device/pluggable_device_factory.cc:271] Created TensorFlow device (/job:localhost/replica:0/task:0/device:GPU:0 with 0 MB memory) -> physical PluggableDevice (device: 0, name: METAL, pci bus id: <undefined>)\n"
     ]
    }
   ],
   "source": [
    "model = keras.Sequential([\n",
    "                          keras.Input(shape=(32,32,3)),\n",
    "                          keras.layers.Conv2D(filters=12, kernel_size=(5, 5), strides=(1, 1), padding='valid'),\n",
    "                          keras.layers.MaxPool2D(),\n",
    "                          keras.layers.Conv2D(filters=8, kernel_size=(5, 5), strides=(1, 1), padding='valid'),\n",
    "                          keras.layers.Flatten(),\n",
    "                          keras.layers.Dense(10, activation='softmax'),\n",
    "])"
   ]
  },
  {
   "cell_type": "code",
   "execution_count": 7,
   "metadata": {
    "colab": {
     "base_uri": "https://localhost:8080/"
    },
    "id": "WtX3k_TD87n7",
    "outputId": "f538d4ef-878e-4938-f41b-3aa254bd0c95"
   },
   "outputs": [
    {
     "name": "stdout",
     "output_type": "stream",
     "text": [
      "Model: \"sequential\"\n",
      "_________________________________________________________________\n",
      " Layer (type)                Output Shape              Param #   \n",
      "=================================================================\n",
      " conv2d (Conv2D)             (None, 28, 28, 12)        912       \n",
      "                                                                 \n",
      " max_pooling2d (MaxPooling2D  (None, 14, 14, 12)       0         \n",
      " )                                                               \n",
      "                                                                 \n",
      " conv2d_1 (Conv2D)           (None, 10, 10, 8)         2408      \n",
      "                                                                 \n",
      " flatten (Flatten)           (None, 800)               0         \n",
      "                                                                 \n",
      " dense (Dense)               (None, 10)                8010      \n",
      "                                                                 \n",
      "=================================================================\n",
      "Total params: 11,330\n",
      "Trainable params: 11,330\n",
      "Non-trainable params: 0\n",
      "_________________________________________________________________\n"
     ]
    }
   ],
   "source": [
    "model.summary()"
   ]
  },
  {
   "cell_type": "code",
   "execution_count": 8,
   "metadata": {
    "id": "35m_Y4mS87pv"
   },
   "outputs": [],
   "source": [
    "model.compile(optimizer='Adam',\n",
    "              loss=keras.losses.SparseCategoricalCrossentropy(from_logits=True),\n",
    "              metrics=['acc'])"
   ]
  },
  {
   "cell_type": "code",
   "execution_count": 9,
   "metadata": {
    "colab": {
     "base_uri": "https://localhost:8080/"
    },
    "id": "2qBflJOM87uH",
    "outputId": "6089e56b-20c3-4b1f-b1d0-5ac04d8974b9"
   },
   "outputs": [
    {
     "name": "stdout",
     "output_type": "stream",
     "text": [
      "Epoch 1/20\n",
      "\r",
      "   1/6250 [..............................] - ETA: 18:49 - loss: 2.3414 - acc: 0.2500"
     ]
    },
    {
     "name": "stderr",
     "output_type": "stream",
     "text": [
      "2022-01-02 19:11:03.805168: W tensorflow/core/platform/profile_utils/cpu_utils.cc:128] Failed to get CPU frequency: 0 Hz\n",
      "/Users/dongheon97/miniforge3/lib/python3.9/site-packages/tensorflow/python/util/dispatch.py:1096: UserWarning: \"`sparse_categorical_crossentropy` received `from_logits=True`, but the `output` argument was produced by a sigmoid or softmax activation and thus does not represent logits. Was this intended?\"\n",
      "  return dispatch_target(*args, **kwargs)\n",
      "2022-01-02 19:11:03.905150: I tensorflow/core/grappler/optimizers/custom_graph_optimizer_registry.cc:112] Plugin optimizer for device_type GPU is enabled.\n"
     ]
    },
    {
     "name": "stdout",
     "output_type": "stream",
     "text": [
      "6249/6250 [============================>.] - ETA: 0s - loss: 1.6834 - acc: 0.4071"
     ]
    },
    {
     "name": "stderr",
     "output_type": "stream",
     "text": [
      "2022-01-02 19:11:35.298317: I tensorflow/core/grappler/optimizers/custom_graph_optimizer_registry.cc:112] Plugin optimizer for device_type GPU is enabled.\n"
     ]
    },
    {
     "name": "stdout",
     "output_type": "stream",
     "text": [
      "6250/6250 [==============================] - 35s 6ms/step - loss: 1.6833 - acc: 0.4072 - val_loss: 1.6280 - val_acc: 0.4306\n",
      "Epoch 2/20\n",
      "6250/6250 [==============================] - 35s 6ms/step - loss: 1.4854 - acc: 0.4883 - val_loss: 1.4160 - val_acc: 0.5113\n",
      "Epoch 3/20\n",
      "6250/6250 [==============================] - 35s 6ms/step - loss: 1.4027 - acc: 0.5173 - val_loss: 1.3749 - val_acc: 0.5225\n",
      "Epoch 4/20\n",
      "6250/6250 [==============================] - 34s 5ms/step - loss: 1.3594 - acc: 0.5316 - val_loss: 1.4870 - val_acc: 0.4882\n",
      "Epoch 5/20\n",
      "6250/6250 [==============================] - 34s 5ms/step - loss: 1.3325 - acc: 0.5408 - val_loss: 1.2989 - val_acc: 0.5553\n",
      "Epoch 6/20\n",
      "6250/6250 [==============================] - 34s 5ms/step - loss: 1.3180 - acc: 0.5474 - val_loss: 1.3308 - val_acc: 0.5449\n",
      "Epoch 7/20\n",
      "6250/6250 [==============================] - 34s 5ms/step - loss: 1.3039 - acc: 0.5542 - val_loss: 1.3625 - val_acc: 0.5315\n",
      "Epoch 8/20\n",
      "6250/6250 [==============================] - 34s 5ms/step - loss: 1.2962 - acc: 0.5537 - val_loss: 1.3612 - val_acc: 0.5421\n",
      "Epoch 9/20\n",
      "6250/6250 [==============================] - 34s 5ms/step - loss: 1.2826 - acc: 0.5639 - val_loss: 1.3276 - val_acc: 0.5432\n",
      "Epoch 10/20\n",
      "6250/6250 [==============================] - 34s 5ms/step - loss: 1.2740 - acc: 0.5603 - val_loss: 1.3753 - val_acc: 0.5361\n",
      "Epoch 11/20\n",
      "6250/6250 [==============================] - 34s 5ms/step - loss: 1.2660 - acc: 0.5667 - val_loss: 1.3734 - val_acc: 0.5339\n",
      "Epoch 12/20\n",
      "6250/6250 [==============================] - 34s 5ms/step - loss: 1.2663 - acc: 0.5644 - val_loss: 1.3658 - val_acc: 0.5367\n",
      "Epoch 13/20\n",
      "6250/6250 [==============================] - 34s 5ms/step - loss: 1.2531 - acc: 0.5725 - val_loss: 1.3270 - val_acc: 0.5477\n",
      "Epoch 14/20\n",
      "6250/6250 [==============================] - 34s 5ms/step - loss: 1.2521 - acc: 0.5728 - val_loss: 1.3392 - val_acc: 0.5417\n",
      "Epoch 15/20\n",
      "6250/6250 [==============================] - 34s 5ms/step - loss: 1.2478 - acc: 0.5721 - val_loss: 1.2806 - val_acc: 0.5633\n",
      "Epoch 16/20\n",
      "6250/6250 [==============================] - 34s 5ms/step - loss: 1.2421 - acc: 0.5737 - val_loss: 1.3835 - val_acc: 0.5333\n",
      "Epoch 17/20\n",
      "6250/6250 [==============================] - 34s 5ms/step - loss: 1.2447 - acc: 0.5729 - val_loss: 1.3286 - val_acc: 0.5410\n",
      "Epoch 18/20\n",
      "6250/6250 [==============================] - 34s 5ms/step - loss: 1.2363 - acc: 0.5750 - val_loss: 1.3625 - val_acc: 0.5411\n",
      "Epoch 19/20\n",
      "6250/6250 [==============================] - 34s 5ms/step - loss: 1.2378 - acc: 0.5744 - val_loss: 1.3413 - val_acc: 0.5449\n",
      "Epoch 20/20\n",
      "6250/6250 [==============================] - 34s 5ms/step - loss: 1.2328 - acc: 0.5775 - val_loss: 1.3749 - val_acc: 0.5321\n"
     ]
    },
    {
     "data": {
      "text/plain": [
       "<keras.callbacks.History at 0x164f464c0>"
      ]
     },
     "execution_count": 9,
     "metadata": {},
     "output_type": "execute_result"
    }
   ],
   "source": [
    "model.fit(x=train_inputs,\n",
    "          y=train_labels,\n",
    "          batch_size=8,\n",
    "          epochs=20,\n",
    "          validation_data=(test_inputs,test_labels))"
   ]
  },
  {
   "cell_type": "markdown",
   "metadata": {
    "id": "e7a7YVk59PP-"
   },
   "source": [
    "<h2>Week 10 Practice</h2>"
   ]
  },
  {
   "cell_type": "code",
   "execution_count": 10,
   "metadata": {
    "id": "D2XEDlWi87wW"
   },
   "outputs": [],
   "source": [
    "model = keras.Sequential([\n",
    "                          keras.Input(shape=(32,32,3)),\n",
    "                          keras.layers.Flatten(),\n",
    "                          keras.layers.Dense(128,activation='relu'),\n",
    "                          keras.layers.Dense(10,activation='softmax'),\n",
    "                          ])"
   ]
  },
  {
   "cell_type": "code",
   "execution_count": 11,
   "metadata": {
    "colab": {
     "base_uri": "https://localhost:8080/"
    },
    "id": "CQ23XiVv9BuI",
    "outputId": "3af2b4ac-07df-44e8-f6a3-f3613b08ac68"
   },
   "outputs": [
    {
     "name": "stdout",
     "output_type": "stream",
     "text": [
      "Model: \"sequential_1\"\n",
      "_________________________________________________________________\n",
      " Layer (type)                Output Shape              Param #   \n",
      "=================================================================\n",
      " flatten_1 (Flatten)         (None, 3072)              0         \n",
      "                                                                 \n",
      " dense_1 (Dense)             (None, 128)               393344    \n",
      "                                                                 \n",
      " dense_2 (Dense)             (None, 10)                1290      \n",
      "                                                                 \n",
      "=================================================================\n",
      "Total params: 394,634\n",
      "Trainable params: 394,634\n",
      "Non-trainable params: 0\n",
      "_________________________________________________________________\n"
     ]
    }
   ],
   "source": [
    "model.summary()"
   ]
  },
  {
   "cell_type": "code",
   "execution_count": 12,
   "metadata": {
    "colab": {
     "base_uri": "https://localhost:8080/"
    },
    "id": "iiuPJYSy9BwP",
    "outputId": "29dcae7f-6502-4242-b2dc-0b8ac0dde4de"
   },
   "outputs": [
    {
     "name": "stdout",
     "output_type": "stream",
     "text": [
      "tf.Tensor([[0.23137255 0.24313726 0.24705882 ... 0.48235294 0.36078432 0.28235295]], shape=(1, 3072), dtype=float32)\n"
     ]
    }
   ],
   "source": [
    "model_flatten = tf.keras.Model(inputs=model.input, outputs=model.layers[0].output)\n",
    "test_output1 = model_flatten(tf.expand_dims(train_inputs[0],axis=0))\n",
    "print(test_output1)"
   ]
  },
  {
   "cell_type": "code",
   "execution_count": 13,
   "metadata": {
    "colab": {
     "base_uri": "https://localhost:8080/"
    },
    "id": "Xv6lJKpB9Bye",
    "outputId": "c6803197-b5c2-4ee1-b1bd-258cade49168"
   },
   "outputs": [
    {
     "name": "stdout",
     "output_type": "stream",
     "text": [
      "tf.Tensor(\n",
      "[[0.         0.         1.0567453  0.3127765  0.23387286 0.9436909\n",
      "  0.         0.45788696 0.         0.         0.         0.\n",
      "  0.         1.6429669  0.1005016  0.5730442  0.60434866 0.39518023\n",
      "  0.         0.         0.         0.0413775  0.         0.\n",
      "  0.337269   0.         0.         0.         0.         0.\n",
      "  0.         0.12078214 0.         0.00657079 0.5132768  0.\n",
      "  0.         0.11444001 0.27408245 0.         0.         0.\n",
      "  0.3504076  0.08671856 0.42636862 0.6581926  0.         0.87848645\n",
      "  0.         0.25879306 0.27927285 0.04772884 0.         0.\n",
      "  0.76743114 0.10241133 0.38547146 0.5359235  0.         0.47053578\n",
      "  0.4564913  0.         0.26752645 0.         0.         0.\n",
      "  0.17264551 0.         0.         0.         0.29243267 0.1132045\n",
      "  0.17530909 0.         0.         0.4977334  0.         0.\n",
      "  0.7183424  0.31866056 0.08295751 0.         0.59727824 0.24242914\n",
      "  0.15527818 0.67619    0.         0.59409463 0.         0.\n",
      "  0.         0.         0.14711869 0.         0.         0.86997163\n",
      "  0.63177735 0.         0.         0.         0.         0.42301303\n",
      "  1.131759   0.         0.25058234 0.0063382  0.         0.\n",
      "  0.         0.08688587 1.1635679  0.14123994 0.         0.4652574\n",
      "  0.         0.09698036 0.         0.16932327 0.         0.7875816\n",
      "  0.         0.2316324  0.         0.         0.         0.00330065\n",
      "  0.00330797 0.7228134 ]], shape=(1, 128), dtype=float32)\n"
     ]
    }
   ],
   "source": [
    "model_dense1 = tf.keras.Model(inputs=model.input, outputs=model.layers[1].output)\n",
    "test_output2 = model_dense1(tf.expand_dims(train_inputs[0],axis=0))\n",
    "print(test_output2)"
   ]
  },
  {
   "cell_type": "code",
   "execution_count": 14,
   "metadata": {
    "colab": {
     "base_uri": "https://localhost:8080/"
    },
    "id": "StmX2SFn87ym",
    "outputId": "240e82cb-969a-4dfd-d726-87666c4fb7e5"
   },
   "outputs": [
    {
     "name": "stdout",
     "output_type": "stream",
     "text": [
      "tf.Tensor(\n",
      "[[0.14621955 0.18109837 0.04876976 0.13060687 0.05398959 0.06637372\n",
      "  0.05383828 0.0518735  0.14929123 0.11793917]], shape=(1, 10), dtype=float32)\n"
     ]
    }
   ],
   "source": [
    "model_dense2 = tf.keras.Model(inputs=model.input, outputs=model.layers[2].output)\n",
    "test_output3 = model_dense2(tf.expand_dims(train_inputs[0],axis=0))\n",
    "print(test_output3)"
   ]
  },
  {
   "cell_type": "code",
   "execution_count": 15,
   "metadata": {
    "id": "L9-E8not9Fsu"
   },
   "outputs": [],
   "source": [
    "model.compile(optimizer='Adam',\n",
    "              loss=keras.losses.SparseCategoricalCrossentropy(from_logits=True),\n",
    "              metrics=['acc'])"
   ]
  },
  {
   "cell_type": "code",
   "execution_count": 16,
   "metadata": {
    "colab": {
     "base_uri": "https://localhost:8080/"
    },
    "id": "OwfXwkDC9Fu3",
    "outputId": "62e620a5-82c5-4f2d-a7f9-2bb1e5bb55a2"
   },
   "outputs": [
    {
     "name": "stdout",
     "output_type": "stream",
     "text": [
      "Epoch 1/20\n"
     ]
    },
    {
     "name": "stderr",
     "output_type": "stream",
     "text": [
      "2022-01-02 19:22:30.010163: I tensorflow/core/grappler/optimizers/custom_graph_optimizer_registry.cc:112] Plugin optimizer for device_type GPU is enabled.\n"
     ]
    },
    {
     "name": "stdout",
     "output_type": "stream",
     "text": [
      "6245/6250 [============================>.] - ETA: 0s - loss: 1.9751 - acc: 0.2657"
     ]
    },
    {
     "name": "stderr",
     "output_type": "stream",
     "text": [
      "2022-01-02 19:22:55.640840: I tensorflow/core/grappler/optimizers/custom_graph_optimizer_registry.cc:112] Plugin optimizer for device_type GPU is enabled.\n"
     ]
    },
    {
     "name": "stdout",
     "output_type": "stream",
     "text": [
      "6250/6250 [==============================] - 29s 5ms/step - loss: 1.9750 - acc: 0.2658 - val_loss: 1.9653 - val_acc: 0.2636\n",
      "Epoch 2/20\n",
      "6250/6250 [==============================] - 28s 4ms/step - loss: 1.8817 - acc: 0.3043 - val_loss: 1.8539 - val_acc: 0.3237\n",
      "Epoch 3/20\n",
      "6250/6250 [==============================] - 28s 5ms/step - loss: 1.8560 - acc: 0.3159 - val_loss: 1.8393 - val_acc: 0.3181\n",
      "Epoch 4/20\n",
      "6250/6250 [==============================] - 28s 5ms/step - loss: 1.8451 - acc: 0.3219 - val_loss: 1.8388 - val_acc: 0.3314\n",
      "Epoch 5/20\n",
      "6250/6250 [==============================] - 28s 5ms/step - loss: 1.8333 - acc: 0.3276 - val_loss: 1.8365 - val_acc: 0.3193\n",
      "Epoch 6/20\n",
      "6250/6250 [==============================] - 28s 5ms/step - loss: 1.8257 - acc: 0.3306 - val_loss: 1.8053 - val_acc: 0.3400\n",
      "Epoch 7/20\n",
      "6250/6250 [==============================] - 28s 5ms/step - loss: 1.8204 - acc: 0.3317 - val_loss: 1.8168 - val_acc: 0.3338\n",
      "Epoch 8/20\n",
      "6250/6250 [==============================] - 28s 5ms/step - loss: 1.8159 - acc: 0.3328 - val_loss: 1.8152 - val_acc: 0.3324\n",
      "Epoch 9/20\n",
      "6250/6250 [==============================] - 28s 5ms/step - loss: 1.8127 - acc: 0.3361 - val_loss: 1.8028 - val_acc: 0.3348\n",
      "Epoch 10/20\n",
      "6250/6250 [==============================] - 29s 5ms/step - loss: 1.8077 - acc: 0.3353 - val_loss: 1.8070 - val_acc: 0.3316\n",
      "Epoch 11/20\n",
      "6250/6250 [==============================] - 28s 4ms/step - loss: 1.8040 - acc: 0.3357 - val_loss: 1.8189 - val_acc: 0.3163\n",
      "Epoch 12/20\n",
      "6250/6250 [==============================] - 28s 4ms/step - loss: 1.8019 - acc: 0.3370 - val_loss: 1.8045 - val_acc: 0.3360\n",
      "Epoch 13/20\n",
      "6250/6250 [==============================] - 28s 4ms/step - loss: 1.8012 - acc: 0.3374 - val_loss: 1.7919 - val_acc: 0.3408\n",
      "Epoch 14/20\n",
      "6250/6250 [==============================] - 28s 4ms/step - loss: 1.7977 - acc: 0.3400 - val_loss: 1.8224 - val_acc: 0.3297\n",
      "Epoch 15/20\n",
      "6250/6250 [==============================] - 28s 4ms/step - loss: 1.7958 - acc: 0.3386 - val_loss: 1.7917 - val_acc: 0.3393\n",
      "Epoch 16/20\n",
      "6250/6250 [==============================] - 28s 4ms/step - loss: 1.7931 - acc: 0.3405 - val_loss: 1.8009 - val_acc: 0.3310\n",
      "Epoch 17/20\n",
      "6250/6250 [==============================] - 28s 4ms/step - loss: 1.7928 - acc: 0.3385 - val_loss: 1.7997 - val_acc: 0.3399\n",
      "Epoch 18/20\n",
      "6250/6250 [==============================] - 28s 4ms/step - loss: 1.7919 - acc: 0.3399 - val_loss: 1.8279 - val_acc: 0.3329\n",
      "Epoch 19/20\n",
      "6250/6250 [==============================] - 28s 4ms/step - loss: 1.7900 - acc: 0.3405 - val_loss: 1.8065 - val_acc: 0.3396\n",
      "Epoch 20/20\n",
      "6250/6250 [==============================] - 29s 5ms/step - loss: 1.7888 - acc: 0.3417 - val_loss: 1.7822 - val_acc: 0.3439\n"
     ]
    },
    {
     "data": {
      "text/plain": [
       "<keras.callbacks.History at 0x28ff97820>"
      ]
     },
     "execution_count": 16,
     "metadata": {},
     "output_type": "execute_result"
    }
   ],
   "source": [
    "model.fit(x=train_inputs,\n",
    "          y=train_labels,\n",
    "          batch_size=8,\n",
    "          epochs=20,\n",
    "          validation_data=(test_inputs,test_labels))"
   ]
  }
 ],
 "metadata": {
  "accelerator": "GPU",
  "colab": {
   "collapsed_sections": [],
   "name": "[CG]201702052_이동헌_week10_report.ipynb",
   "provenance": []
  },
  "kernelspec": {
   "display_name": "Python 3 (ipykernel)",
   "language": "python",
   "name": "python3"
  },
  "language_info": {
   "codemirror_mode": {
    "name": "ipython",
    "version": 3
   },
   "file_extension": ".py",
   "mimetype": "text/x-python",
   "name": "python",
   "nbconvert_exporter": "python",
   "pygments_lexer": "ipython3",
   "version": "3.9.7"
  }
 },
 "nbformat": 4,
 "nbformat_minor": 1
}
