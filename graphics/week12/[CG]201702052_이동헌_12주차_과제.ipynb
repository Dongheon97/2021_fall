{
  "nbformat": 4,
  "nbformat_minor": 0,
  "metadata": {
    "colab": {
      "name": "[CG]201702052_이동헌_12주차_과제.ipynb",
      "provenance": [],
      "collapsed_sections": []
    },
    "kernelspec": {
      "name": "python3",
      "display_name": "Python 3"
    },
    "language_info": {
      "name": "python"
    }
  },
  "cells": [
    {
      "cell_type": "code",
      "metadata": {
        "id": "Yoqpiz5ZEDZZ"
      },
      "source": [
        "import matplotlib.pyplot as plt\n",
        "import numpy as np\n",
        "import os\n",
        "import PIL\n",
        "import tensorflow as tf\n",
        "import matplotlib.pyplot as plt\n",
        "\n",
        "\n",
        "from tensorflow import keras\n",
        "from tensorflow.keras import layers"
      ],
      "execution_count": null,
      "outputs": []
    },
    {
      "cell_type": "code",
      "metadata": {
        "id": "d4ERy7Z6EVTx"
      },
      "source": [
        "import pathlib\n",
        "dataset_url = \"https://storage.googleapis.com/download.tensorflow.org/example_images/flower_photos.tgz\"\n",
        "data_dir = tf.keras.utils.get_file('flower_photos', origin=dataset_url, untar=True)\n",
        "data_dir = pathlib.Path(data_dir)"
      ],
      "execution_count": null,
      "outputs": []
    },
    {
      "cell_type": "code",
      "metadata": {
        "id": "yyw1h5bJEVR9"
      },
      "source": [
        "input_shape = (224,224)\n",
        "batch_size = 32"
      ],
      "execution_count": null,
      "outputs": []
    },
    {
      "cell_type": "code",
      "metadata": {
        "id": "mpeCR50_EVPq"
      },
      "source": [
        "train_ds = tf.keras.preprocessing.image_dataset_from_directory(\n",
        "  data_dir,\n",
        "  validation_split=0.2,\n",
        "  subset=\"training\",\n",
        "  seed=123,\n",
        "  image_size=input_shape,\n",
        "  batch_size=batch_size)"
      ],
      "execution_count": null,
      "outputs": []
    },
    {
      "cell_type": "code",
      "metadata": {
        "id": "BfVVWsqkEVNk"
      },
      "source": [
        "val_ds = tf.keras.preprocessing.image_dataset_from_directory(\n",
        "  data_dir,\n",
        "  validation_split=0.2,\n",
        "  subset=\"validation\",\n",
        "  seed=123,\n",
        "  image_size=input_shape,\n",
        "  batch_size=batch_size)"
      ],
      "execution_count": null,
      "outputs": []
    },
    {
      "cell_type": "code",
      "metadata": {
        "id": "Q3azjKruEVK3"
      },
      "source": [
        "num_classes = 5\n",
        "input_shape = (224,224,3)\n",
        "\n",
        "model_input = keras.Input(shape=(224, 224,3), name=\"f_input\")\n",
        "x = layers.Conv2D(16, 3,padding=\"same\", activation=\"relu\")(model_input)\n",
        "x = layers.MaxPooling2D()(x)\n",
        "x = layers.Conv2D(32, 3,padding=\"same\", activation=\"relu\")(x)\n",
        "x = layers.MaxPooling2D()(x)\n",
        "x = layers.Conv2D(64, 3,padding=\"same\", activation=\"relu\")(x)\n",
        "x = layers.MaxPooling2D()(x)\n",
        "x = layers.Flatten()(x)\n",
        "x = layers.Dense(128,activation=\"relu\")(x)\n",
        "model_output = layers.Dense(num_classes,activation=\"softmax\")(x)\n",
        "\n",
        "functional_model = keras.Model(model_input, model_output, name=\"functional_model\")"
      ],
      "execution_count": null,
      "outputs": []
    },
    {
      "cell_type": "code",
      "metadata": {
        "id": "vmd6XcjyEVIv"
      },
      "source": [
        "functional_model.summary()"
      ],
      "execution_count": null,
      "outputs": []
    },
    {
      "cell_type": "code",
      "metadata": {
        "id": "12ilsG_9EVG8"
      },
      "source": [
        "functional_model.compile(optimizer='Adam',\n",
        "              loss=tf.keras.losses.SparseCategoricalCrossentropy(from_logits=True),\n",
        "              metrics=['acc'])"
      ],
      "execution_count": null,
      "outputs": []
    },
    {
      "cell_type": "code",
      "metadata": {
        "id": "eCkzViQUEVC8"
      },
      "source": [
        "epochs=10\n",
        "history = functional_model.fit(\n",
        "  train_ds,\n",
        "  validation_data=val_ds,\n",
        "  epochs=epochs\n",
        ")"
      ],
      "execution_count": null,
      "outputs": []
    },
    {
      "cell_type": "code",
      "metadata": {
        "id": "VBf536BzEVBB"
      },
      "source": [
        "num_classes = 5\n",
        "input_shape = (224,224,3)\n",
        "\n",
        "def func_model(num_classes, input_shape):\n",
        "    model_input = keras.Input(shape=input_shape, name=\"f_input\")\n",
        "    x = layers.Conv2D(16, 3,padding=\"same\", activation=\"relu\")(model_input)\n",
        "    x = layers.MaxPooling2D()(x)\n",
        "    x = layers.Conv2D(32, 3,padding=\"same\", activation=\"relu\")(x)\n",
        "    x = layers.MaxPooling2D()(x)\n",
        "    x = layers.Conv2D(64, 3,padding=\"same\", activation=\"relu\")(x)\n",
        "    x = layers.MaxPooling2D()(x)\n",
        "    x = layers.Flatten()(x)\n",
        "    x = layers.Dense(128,activation=\"relu\")(x)\n",
        "    model_output = layers.Dense(num_classes,activation=\"softmax\")(x)\n",
        "\n",
        "    return keras.Model(model_input, model_output, name=\"functional_model\")"
      ],
      "execution_count": null,
      "outputs": []
    },
    {
      "cell_type": "code",
      "metadata": {
        "id": "RskRMGPXEU-0"
      },
      "source": [
        "functional_model = func_model(num_classes,input_shape)"
      ],
      "execution_count": null,
      "outputs": []
    },
    {
      "cell_type": "code",
      "metadata": {
        "id": "zREW0UhbEU8f"
      },
      "source": [
        "functional_model.summary()"
      ],
      "execution_count": null,
      "outputs": []
    },
    {
      "cell_type": "code",
      "metadata": {
        "id": "ScbRld6IEU6L"
      },
      "source": [
        "class MyModel(tf.keras.Model):\n",
        "\n",
        "  def __init__(self,num_classes,input_shape):\n",
        "    super().__init__()\n",
        "    self.conv1 = layers.Conv2D(16, 3,padding=\"same\", activation=\"relu\",input_shape=input_shape)\n",
        "    self.conv2 = layers.Conv2D(32, 3,padding=\"same\", activation=\"relu\")\n",
        "    self.conv3 = layers.Conv2D(64, 3,padding=\"same\", activation=\"relu\")\n",
        "    self.maxpool2d = layers.MaxPooling2D()\n",
        "    self.flatten = layers.Flatten()\n",
        "    self.dense1 = layers.Dense(128,activation=\"relu\")\n",
        "    self.dense2 = layers.Dense(num_classes,activation=\"softmax\")\n",
        "    \n",
        "\n",
        "  def call(self, inputs):\n",
        "    x = self.conv1(inputs)\n",
        "    x = self.maxpool2d(x)\n",
        "    x = self.conv2(x)\n",
        "    x = self.maxpool2d(x)\n",
        "    x = self.conv3(x)\n",
        "    x = self.maxpool2d(x)\n",
        "\n",
        "    x = self.flatten(x)\n",
        "    x = self.dense1(x)\n",
        "    out = self.dense2(x)\n",
        "\n",
        "    return out\n",
        "\n",
        "subclass_model = MyModel(num_classes,input_shape)"
      ],
      "execution_count": null,
      "outputs": []
    },
    {
      "cell_type": "code",
      "metadata": {
        "id": "2E3Dllx1EU36"
      },
      "source": [
        "subclass_model.compile(optimizer='Adam',\n",
        "              loss=tf.keras.losses.SparseCategoricalCrossentropy(from_logits=True),\n",
        "              metrics=['acc'])"
      ],
      "execution_count": null,
      "outputs": []
    },
    {
      "cell_type": "code",
      "metadata": {
        "id": "tMj_mVBkEU2K"
      },
      "source": [
        "epochs=10\n",
        "history = subclass_model.fit(\n",
        "  train_ds,\n",
        "  validation_data=val_ds,\n",
        "  epochs=epochs\n",
        ")"
      ],
      "execution_count": null,
      "outputs": []
    },
    {
      "cell_type": "code",
      "metadata": {
        "id": "3AXN_mYpEUz5"
      },
      "source": [
        "num_classes = 5\n",
        "input_shape = (224,224,3)\n",
        "\n",
        "model_input = keras.Input(shape=(224, 224,3), name=\"f_input\")\n",
        "x1 = layers.Conv2D(16, 3,padding=\"same\", activation=\"relu\")(model_input)\n",
        "x1 = layers.MaxPooling2D()(x1)\n",
        "x2 = layers.Conv2D(32, 3,padding=\"same\", activation=\"relu\")(x1)\n",
        "x2 = layers.MaxPooling2D()(x2)\n",
        "x3 = layers.Conv2D(64, 3,padding=\"same\", activation=\"relu\")(x1)\n",
        "x3 = layers.MaxPooling2D()(x3)\n",
        "flat2 = layers.Flatten()(x2)\n",
        "flat3 = layers.Flatten()(x3)\n",
        "d1 = layers.Dense(128,activation=\"relu\")(flat2)\n",
        "d2 = layers.Dense(num_classes,activation=\"softmax\")(flat3)\n",
        "\n",
        "functional_model = keras.Model(model_input, (d1,d2))"
      ],
      "execution_count": null,
      "outputs": []
    },
    {
      "cell_type": "code",
      "metadata": {
        "id": "jSOxMg4dEUxj"
      },
      "source": [
        "functional_model.summary()"
      ],
      "execution_count": null,
      "outputs": []
    },
    {
      "cell_type": "code",
      "metadata": {
        "id": "bV1ClpCzEUvm"
      },
      "source": [
        "num_classes = 5\n",
        "input_shape = (224,224,3)\n",
        "\n",
        "model_input = keras.Input(shape=(224, 224,3), name=\"f_input\")\n",
        "x1 = layers.Conv2D(16, 3,padding=\"same\", activation=\"relu\")(model_input)\n",
        "x1 = layers.MaxPooling2D()(x1)\n",
        "x2 = layers.Conv2D(32, 3,padding=\"same\", activation=\"relu\")(x1)\n",
        "x2 = layers.MaxPooling2D()(x2)\n",
        "x3 = layers.Conv2D(64, 3,padding=\"same\", activation=\"relu\")(x1)\n",
        "x3 = layers.MaxPooling2D()(x3)\n",
        "\n",
        "con1 = layers.Concatenate()([x2,x3])\n",
        "flat = layers.Flatten()(con1)\n",
        "\n",
        "d1 = layers.Dense(128,activation=\"relu\")(flat)\n",
        "d2 = layers.Dense(num_classes,activation=\"softmax\")(d1)\n",
        "\n",
        "functional_model = keras.Model(model_input, d2)"
      ],
      "execution_count": null,
      "outputs": []
    },
    {
      "cell_type": "code",
      "metadata": {
        "id": "vZEoHa4aEUtm"
      },
      "source": [
        "functional_model.summary()"
      ],
      "execution_count": null,
      "outputs": []
    },
    {
      "cell_type": "code",
      "metadata": {
        "id": "jepZXuWKEUrW"
      },
      "source": [
        "functional_model.summary()"
      ],
      "execution_count": null,
      "outputs": []
    },
    {
      "cell_type": "markdown",
      "metadata": {
        "id": "oP7Lev_y0Qgq"
      },
      "source": [
        "<h1>GoogLeNet</h1>\n"
      ]
    },
    {
      "cell_type": "markdown",
      "metadata": {
        "id": "R4j5khULNjJ6"
      },
      "source": [
        "<h3>201702052 이동헌</h3>"
      ]
    },
    {
      "cell_type": "code",
      "metadata": {
        "id": "sSAjFmy1EtsI"
      },
      "source": [
        "from tensorflow import keras\n",
        "from tensorflow.keras import layers\n",
        "\n",
        "'''\n",
        "GoogLeNet 코드 작성\n",
        "functional API, subclass model 중 원하는 방식으로 구현\n",
        "함수를 사용하면 보다 간편하게 구현 가능\n",
        "'''\n",
        "\n",
        "def inception_module(input_layer,filter1,filter2,filter3):\n",
        "  for_con0 = layers.Conv2D(filters=filter1, kernel_size=(1,1), strides=(1,1), padding='same', activation='relu')(input_layer)\n",
        "\n",
        "  for_con1 = layers.Conv2D(filters=filter1, kernel_size=(1,1), strides=(1,1), padding='same', activation='relu')(input_layer)\n",
        "  for_con1 = layers.Conv2D(filters=filter2, kernel_size=(3,3), strides=(1,1), padding='same', activation='relu')(for_con1)\n",
        "\n",
        "  for_con2 = layers.Conv2D(filters=filter1, kernel_size=(1,1), strides=(1,1), padding='same', activation='relu')(input_layer)\n",
        "  for_con2 = layers.Conv2D(filters=filter3, kernel_size=(5,5), strides=(1,1), padding='same', activation='relu')(for_con2)\n",
        "\n",
        "  for_con3 = layers.MaxPooling2D(pool_size=(3,3), strides=(1,1), padding='same')(input_layer)\n",
        "  for_con3 = layers.Conv2D(filters=filter1, kernel_size=(1,1), strides=(1,1), padding='same', activation='relu')(for_con3)\n",
        "\n",
        "  outputs = layers.Concatenate()([for_con0, for_con1, for_con2, for_con3])\n",
        "  return outputs"
      ],
      "execution_count": 38,
      "outputs": []
    },
    {
      "cell_type": "code",
      "metadata": {
        "colab": {
          "base_uri": "https://localhost:8080/"
        },
        "id": "68NmbBR8Etpw",
        "outputId": "f7c71818-a104-4aec-e18f-ef820123f048"
      },
      "source": [
        "model_input = keras.Input(shape=(224, 224,3), name=\"f_input\")\n",
        "\n",
        "x = layers.Conv2D(filters=64, kernel_size=(7,7), strides=(2,2), padding='same', activation='relu')(model_input)\n",
        "x = layers.MaxPooling2D(pool_size=(3,3), strides=(2,2), padding='same')(x)\n",
        "x = layers.LayerNormalization()(x)\n",
        "\n",
        "x = layers.Conv2D(filters=64, kernel_size=(1,1), strides=(1,1), padding='same', activation='relu')(x)\n",
        "x = layers.Conv2D(filters=192, kernel_size=(3,3), strides=(1,1), padding='same', activation='relu')(x)\n",
        "x = layers.LayerNormalization()(x)\n",
        "x = layers.MaxPooling2D(pool_size=(3,3), strides=(2,2), padding='same')(x)\n",
        "\n",
        "x = inception_module(x, 64, 128, 32)\n",
        "x = inception_module(x, 128, 192, 96)\n",
        "x = layers.MaxPooling2D(pool_size=(3,3), strides=(2,2), padding='same')(x)\n",
        "\n",
        "x = inception_module(x, 192, 208, 48)\n",
        "x = inception_module(x, 160, 224, 64)\n",
        "x = inception_module(x, 128, 256, 64)\n",
        "x = inception_module(x, 112, 288, 64)\n",
        "x = inception_module(x, 256, 320, 128)\n",
        "x = layers.MaxPooling2D(pool_size=(3,3), strides=(2,2), padding='same')(x)\n",
        "\n",
        "x = inception_module(x, 256, 320, 128)\n",
        "x = inception_module(x, 384, 384, 128)\n",
        "\n",
        "x = layers.AveragePooling2D(pool_size=(7,7), strides=(1,1), padding='same')(x)\n",
        "x = layers.Dropout(0.4)(x)\n",
        "\n",
        "x = layers.Dense(1000, activation='softmax')(x)\n",
        "model_output = layers.Dense(5, activation=\"softmax\")(x)\n",
        "\n",
        "functional_model = keras.Model(model_input, model_output, name=\"GoogLeNet\")\n",
        "\n",
        "functional_model.summary()\n"
      ],
      "execution_count": 37,
      "outputs": [
        {
          "output_type": "stream",
          "name": "stdout",
          "text": [
            "Model: \"GoogLeNet\"\n",
            "__________________________________________________________________________________________________\n",
            " Layer (type)                   Output Shape         Param #     Connected to                     \n",
            "==================================================================================================\n",
            " f_input (InputLayer)           [(None, 224, 224, 3  0           []                               \n",
            "                                )]                                                                \n",
            "                                                                                                  \n",
            " conv2d_248 (Conv2D)            (None, 112, 112, 64  9472        ['f_input[0][0]']                \n",
            "                                )                                                                 \n",
            "                                                                                                  \n",
            " max_pooling2d_75 (MaxPooling2D  (None, 56, 56, 64)  0           ['conv2d_248[0][0]']             \n",
            " )                                                                                                \n",
            "                                                                                                  \n",
            " layer_normalization_41 (LayerN  (None, 56, 56, 64)  128         ['max_pooling2d_75[0][0]']       \n",
            " ormalization)                                                                                    \n",
            "                                                                                                  \n",
            " conv2d_249 (Conv2D)            (None, 56, 56, 64)   4160        ['layer_normalization_41[0][0]'] \n",
            "                                                                                                  \n",
            " conv2d_250 (Conv2D)            (None, 56, 56, 192)  110784      ['conv2d_249[0][0]']             \n",
            "                                                                                                  \n",
            " layer_normalization_42 (LayerN  (None, 56, 56, 192)  384        ['conv2d_250[0][0]']             \n",
            " ormalization)                                                                                    \n",
            "                                                                                                  \n",
            " max_pooling2d_76 (MaxPooling2D  (None, 28, 28, 192)  0          ['layer_normalization_42[0][0]'] \n",
            " )                                                                                                \n",
            "                                                                                                  \n",
            " conv2d_252 (Conv2D)            (None, 28, 28, 64)   12352       ['max_pooling2d_76[0][0]']       \n",
            "                                                                                                  \n",
            " conv2d_254 (Conv2D)            (None, 28, 28, 64)   12352       ['max_pooling2d_76[0][0]']       \n",
            "                                                                                                  \n",
            " max_pooling2d_77 (MaxPooling2D  (None, 28, 28, 192)  0          ['max_pooling2d_76[0][0]']       \n",
            " )                                                                                                \n",
            "                                                                                                  \n",
            " conv2d_251 (Conv2D)            (None, 28, 28, 64)   12352       ['max_pooling2d_76[0][0]']       \n",
            "                                                                                                  \n",
            " conv2d_253 (Conv2D)            (None, 28, 28, 128)  73856       ['conv2d_252[0][0]']             \n",
            "                                                                                                  \n",
            " conv2d_255 (Conv2D)            (None, 28, 28, 32)   51232       ['conv2d_254[0][0]']             \n",
            "                                                                                                  \n",
            " conv2d_256 (Conv2D)            (None, 28, 28, 64)   12352       ['max_pooling2d_77[0][0]']       \n",
            "                                                                                                  \n",
            " concatenate_30 (Concatenate)   (None, 28, 28, 288)  0           ['conv2d_251[0][0]',             \n",
            "                                                                  'conv2d_253[0][0]',             \n",
            "                                                                  'conv2d_255[0][0]',             \n",
            "                                                                  'conv2d_256[0][0]']             \n",
            "                                                                                                  \n",
            " conv2d_258 (Conv2D)            (None, 28, 28, 128)  36992       ['concatenate_30[0][0]']         \n",
            "                                                                                                  \n",
            " conv2d_260 (Conv2D)            (None, 28, 28, 128)  36992       ['concatenate_30[0][0]']         \n",
            "                                                                                                  \n",
            " max_pooling2d_78 (MaxPooling2D  (None, 28, 28, 288)  0          ['concatenate_30[0][0]']         \n",
            " )                                                                                                \n",
            "                                                                                                  \n",
            " conv2d_257 (Conv2D)            (None, 28, 28, 128)  36992       ['concatenate_30[0][0]']         \n",
            "                                                                                                  \n",
            " conv2d_259 (Conv2D)            (None, 28, 28, 192)  221376      ['conv2d_258[0][0]']             \n",
            "                                                                                                  \n",
            " conv2d_261 (Conv2D)            (None, 28, 28, 96)   307296      ['conv2d_260[0][0]']             \n",
            "                                                                                                  \n",
            " conv2d_262 (Conv2D)            (None, 28, 28, 128)  36992       ['max_pooling2d_78[0][0]']       \n",
            "                                                                                                  \n",
            " concatenate_31 (Concatenate)   (None, 28, 28, 544)  0           ['conv2d_257[0][0]',             \n",
            "                                                                  'conv2d_259[0][0]',             \n",
            "                                                                  'conv2d_261[0][0]',             \n",
            "                                                                  'conv2d_262[0][0]']             \n",
            "                                                                                                  \n",
            " max_pooling2d_79 (MaxPooling2D  (None, 14, 14, 544)  0          ['concatenate_31[0][0]']         \n",
            " )                                                                                                \n",
            "                                                                                                  \n",
            " conv2d_264 (Conv2D)            (None, 14, 14, 192)  104640      ['max_pooling2d_79[0][0]']       \n",
            "                                                                                                  \n",
            " conv2d_266 (Conv2D)            (None, 14, 14, 192)  104640      ['max_pooling2d_79[0][0]']       \n",
            "                                                                                                  \n",
            " max_pooling2d_80 (MaxPooling2D  (None, 14, 14, 544)  0          ['max_pooling2d_79[0][0]']       \n",
            " )                                                                                                \n",
            "                                                                                                  \n",
            " conv2d_263 (Conv2D)            (None, 14, 14, 192)  104640      ['max_pooling2d_79[0][0]']       \n",
            "                                                                                                  \n",
            " conv2d_265 (Conv2D)            (None, 14, 14, 208)  359632      ['conv2d_264[0][0]']             \n",
            "                                                                                                  \n",
            " conv2d_267 (Conv2D)            (None, 14, 14, 48)   230448      ['conv2d_266[0][0]']             \n",
            "                                                                                                  \n",
            " conv2d_268 (Conv2D)            (None, 14, 14, 192)  104640      ['max_pooling2d_80[0][0]']       \n",
            "                                                                                                  \n",
            " concatenate_32 (Concatenate)   (None, 14, 14, 640)  0           ['conv2d_263[0][0]',             \n",
            "                                                                  'conv2d_265[0][0]',             \n",
            "                                                                  'conv2d_267[0][0]',             \n",
            "                                                                  'conv2d_268[0][0]']             \n",
            "                                                                                                  \n",
            " conv2d_270 (Conv2D)            (None, 14, 14, 160)  102560      ['concatenate_32[0][0]']         \n",
            "                                                                                                  \n",
            " conv2d_272 (Conv2D)            (None, 14, 14, 160)  102560      ['concatenate_32[0][0]']         \n",
            "                                                                                                  \n",
            " max_pooling2d_81 (MaxPooling2D  (None, 14, 14, 640)  0          ['concatenate_32[0][0]']         \n",
            " )                                                                                                \n",
            "                                                                                                  \n",
            " conv2d_269 (Conv2D)            (None, 14, 14, 160)  102560      ['concatenate_32[0][0]']         \n",
            "                                                                                                  \n",
            " conv2d_271 (Conv2D)            (None, 14, 14, 224)  322784      ['conv2d_270[0][0]']             \n",
            "                                                                                                  \n",
            " conv2d_273 (Conv2D)            (None, 14, 14, 64)   256064      ['conv2d_272[0][0]']             \n",
            "                                                                                                  \n",
            " conv2d_274 (Conv2D)            (None, 14, 14, 160)  102560      ['max_pooling2d_81[0][0]']       \n",
            "                                                                                                  \n",
            " concatenate_33 (Concatenate)   (None, 14, 14, 608)  0           ['conv2d_269[0][0]',             \n",
            "                                                                  'conv2d_271[0][0]',             \n",
            "                                                                  'conv2d_273[0][0]',             \n",
            "                                                                  'conv2d_274[0][0]']             \n",
            "                                                                                                  \n",
            " conv2d_276 (Conv2D)            (None, 14, 14, 128)  77952       ['concatenate_33[0][0]']         \n",
            "                                                                                                  \n",
            " conv2d_278 (Conv2D)            (None, 14, 14, 128)  77952       ['concatenate_33[0][0]']         \n",
            "                                                                                                  \n",
            " max_pooling2d_82 (MaxPooling2D  (None, 14, 14, 608)  0          ['concatenate_33[0][0]']         \n",
            " )                                                                                                \n",
            "                                                                                                  \n",
            " conv2d_275 (Conv2D)            (None, 14, 14, 128)  77952       ['concatenate_33[0][0]']         \n",
            "                                                                                                  \n",
            " conv2d_277 (Conv2D)            (None, 14, 14, 256)  295168      ['conv2d_276[0][0]']             \n",
            "                                                                                                  \n",
            " conv2d_279 (Conv2D)            (None, 14, 14, 64)   204864      ['conv2d_278[0][0]']             \n",
            "                                                                                                  \n",
            " conv2d_280 (Conv2D)            (None, 14, 14, 128)  77952       ['max_pooling2d_82[0][0]']       \n",
            "                                                                                                  \n",
            " concatenate_34 (Concatenate)   (None, 14, 14, 576)  0           ['conv2d_275[0][0]',             \n",
            "                                                                  'conv2d_277[0][0]',             \n",
            "                                                                  'conv2d_279[0][0]',             \n",
            "                                                                  'conv2d_280[0][0]']             \n",
            "                                                                                                  \n",
            " conv2d_282 (Conv2D)            (None, 14, 14, 112)  64624       ['concatenate_34[0][0]']         \n",
            "                                                                                                  \n",
            " conv2d_284 (Conv2D)            (None, 14, 14, 112)  64624       ['concatenate_34[0][0]']         \n",
            "                                                                                                  \n",
            " max_pooling2d_83 (MaxPooling2D  (None, 14, 14, 576)  0          ['concatenate_34[0][0]']         \n",
            " )                                                                                                \n",
            "                                                                                                  \n",
            " conv2d_281 (Conv2D)            (None, 14, 14, 112)  64624       ['concatenate_34[0][0]']         \n",
            "                                                                                                  \n",
            " conv2d_283 (Conv2D)            (None, 14, 14, 288)  290592      ['conv2d_282[0][0]']             \n",
            "                                                                                                  \n",
            " conv2d_285 (Conv2D)            (None, 14, 14, 64)   179264      ['conv2d_284[0][0]']             \n",
            "                                                                                                  \n",
            " conv2d_286 (Conv2D)            (None, 14, 14, 112)  64624       ['max_pooling2d_83[0][0]']       \n",
            "                                                                                                  \n",
            " concatenate_35 (Concatenate)   (None, 14, 14, 576)  0           ['conv2d_281[0][0]',             \n",
            "                                                                  'conv2d_283[0][0]',             \n",
            "                                                                  'conv2d_285[0][0]',             \n",
            "                                                                  'conv2d_286[0][0]']             \n",
            "                                                                                                  \n",
            " conv2d_288 (Conv2D)            (None, 14, 14, 256)  147712      ['concatenate_35[0][0]']         \n",
            "                                                                                                  \n",
            " conv2d_290 (Conv2D)            (None, 14, 14, 256)  147712      ['concatenate_35[0][0]']         \n",
            "                                                                                                  \n",
            " max_pooling2d_84 (MaxPooling2D  (None, 14, 14, 576)  0          ['concatenate_35[0][0]']         \n",
            " )                                                                                                \n",
            "                                                                                                  \n",
            " conv2d_287 (Conv2D)            (None, 14, 14, 256)  147712      ['concatenate_35[0][0]']         \n",
            "                                                                                                  \n",
            " conv2d_289 (Conv2D)            (None, 14, 14, 320)  737600      ['conv2d_288[0][0]']             \n",
            "                                                                                                  \n",
            " conv2d_291 (Conv2D)            (None, 14, 14, 128)  819328      ['conv2d_290[0][0]']             \n",
            "                                                                                                  \n",
            " conv2d_292 (Conv2D)            (None, 14, 14, 256)  147712      ['max_pooling2d_84[0][0]']       \n",
            "                                                                                                  \n",
            " concatenate_36 (Concatenate)   (None, 14, 14, 960)  0           ['conv2d_287[0][0]',             \n",
            "                                                                  'conv2d_289[0][0]',             \n",
            "                                                                  'conv2d_291[0][0]',             \n",
            "                                                                  'conv2d_292[0][0]']             \n",
            "                                                                                                  \n",
            " max_pooling2d_85 (MaxPooling2D  (None, 7, 7, 960)   0           ['concatenate_36[0][0]']         \n",
            " )                                                                                                \n",
            "                                                                                                  \n",
            " conv2d_294 (Conv2D)            (None, 7, 7, 256)    246016      ['max_pooling2d_85[0][0]']       \n",
            "                                                                                                  \n",
            " conv2d_296 (Conv2D)            (None, 7, 7, 256)    246016      ['max_pooling2d_85[0][0]']       \n",
            "                                                                                                  \n",
            " max_pooling2d_86 (MaxPooling2D  (None, 7, 7, 960)   0           ['max_pooling2d_85[0][0]']       \n",
            " )                                                                                                \n",
            "                                                                                                  \n",
            " conv2d_293 (Conv2D)            (None, 7, 7, 256)    246016      ['max_pooling2d_85[0][0]']       \n",
            "                                                                                                  \n",
            " conv2d_295 (Conv2D)            (None, 7, 7, 320)    737600      ['conv2d_294[0][0]']             \n",
            "                                                                                                  \n",
            " conv2d_297 (Conv2D)            (None, 7, 7, 128)    819328      ['conv2d_296[0][0]']             \n",
            "                                                                                                  \n",
            " conv2d_298 (Conv2D)            (None, 7, 7, 256)    246016      ['max_pooling2d_86[0][0]']       \n",
            "                                                                                                  \n",
            " concatenate_37 (Concatenate)   (None, 7, 7, 960)    0           ['conv2d_293[0][0]',             \n",
            "                                                                  'conv2d_295[0][0]',             \n",
            "                                                                  'conv2d_297[0][0]',             \n",
            "                                                                  'conv2d_298[0][0]']             \n",
            "                                                                                                  \n",
            " conv2d_300 (Conv2D)            (None, 7, 7, 384)    369024      ['concatenate_37[0][0]']         \n",
            "                                                                                                  \n",
            " conv2d_302 (Conv2D)            (None, 7, 7, 384)    369024      ['concatenate_37[0][0]']         \n",
            "                                                                                                  \n",
            " max_pooling2d_87 (MaxPooling2D  (None, 7, 7, 960)   0           ['concatenate_37[0][0]']         \n",
            " )                                                                                                \n",
            "                                                                                                  \n",
            " conv2d_299 (Conv2D)            (None, 7, 7, 384)    369024      ['concatenate_37[0][0]']         \n",
            "                                                                                                  \n",
            " conv2d_301 (Conv2D)            (None, 7, 7, 384)    1327488     ['conv2d_300[0][0]']             \n",
            "                                                                                                  \n",
            " conv2d_303 (Conv2D)            (None, 7, 7, 128)    1228928     ['conv2d_302[0][0]']             \n",
            "                                                                                                  \n",
            " conv2d_304 (Conv2D)            (None, 7, 7, 384)    369024      ['max_pooling2d_87[0][0]']       \n",
            "                                                                                                  \n",
            " concatenate_38 (Concatenate)   (None, 7, 7, 1280)   0           ['conv2d_299[0][0]',             \n",
            "                                                                  'conv2d_301[0][0]',             \n",
            "                                                                  'conv2d_303[0][0]',             \n",
            "                                                                  'conv2d_304[0][0]']             \n",
            "                                                                                                  \n",
            " average_pooling2d_3 (AveragePo  (None, 7, 7, 1280)  0           ['concatenate_38[0][0]']         \n",
            " oling2D)                                                                                         \n",
            "                                                                                                  \n",
            " dropout_3 (Dropout)            (None, 7, 7, 1280)   0           ['average_pooling2d_3[0][0]']    \n",
            "                                                                                                  \n",
            " dense_14 (Dense)               (None, 7, 7, 1000)   1281000     ['dropout_3[0][0]']              \n",
            "                                                                                                  \n",
            " dense_15 (Dense)               (None, 7, 7, 5)      5005        ['dense_14[0][0]']               \n",
            "                                                                                                  \n",
            "==================================================================================================\n",
            "Total params: 14,521,269\n",
            "Trainable params: 14,521,269\n",
            "Non-trainable params: 0\n",
            "__________________________________________________________________________________________________\n"
          ]
        }
      ]
    }
  ]
}