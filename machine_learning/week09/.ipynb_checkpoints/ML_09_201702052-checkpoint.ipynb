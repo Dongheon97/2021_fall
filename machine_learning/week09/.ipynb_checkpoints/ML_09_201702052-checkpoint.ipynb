{
 "cells": [
  {
   "cell_type": "markdown",
   "metadata": {},
   "source": [
    "<h1>ML 09 Text Data 2</h1>"
   ]
  },
  {
   "cell_type": "markdown",
   "metadata": {},
   "source": [
    "<h2>Import Library & Data</h2>"
   ]
  },
  {
   "cell_type": "code",
   "execution_count": 1,
   "metadata": {},
   "outputs": [],
   "source": [
    "import numpy as np\n",
    "import chardet\n",
    "from sklearn.datasets import load_files\n",
    "from sklearn.model_selection import cross_val_score\n",
    "from sklearn import neighbors\n",
    "from sklearn.feature_extraction.text import TfidfVectorizer\n",
    "from sklearn.feature_extraction.text import ENGLISH_STOP_WORDS\n",
    "from sklearn.decomposition import PCA\n",
    "from sklearn.decomposition import TruncatedSVD \n",
    "\n",
    "files = load_files(\"./bbcsport/\")\n",
    "X, y = files.data, files.target"
   ]
  },
  {
   "cell_type": "markdown",
   "metadata": {},
   "source": [
    "<h2>Transform Data Encoding Method</h2>"
   ]
  },
  {
   "cell_type": "code",
   "execution_count": 2,
   "metadata": {},
   "outputs": [
    {
     "name": "stdout",
     "output_type": "stream",
     "text": [
      "b'England victory tainted by history\\n\\nAs England attempt to secure a series victory in South Africa, they will do so at the venue for a previous match which became the stuff of Test cricket folklore.\\n\\nSouth Africa\\'s meeting with England at Centurion Park in January 2000 was thought to have been an enthralling spectacle, with the tourists claiming a remarkable win after three whole days were lost to bad weather. It took a few short months to reveal the unfortunate truth; that a bookmaker had given home skipper Hansie Cronje money - and a leather jacket - to influence the outcome of the match. Cronje, who was killed two years later in a plane crash, was subsequently found guilty of match-fixing and banned from Test cricket for life. Opening the bowling for England was Andy Caddick, who told BBC Sport: \"They were 2-0 up in the series, we had a lot of English supporters there and South Africa just wanted to make a game of it. That\\'s what I thought. \"At the time you don\\'t think anything of it but then afterwards you start to put two and two together, with events that happened afterwards.\" England captain Nasser Hussain put the South Africans in after winning the toss, and was given an early reward, of a purely cricketing nature, when Gary Kirsten edged Darren Gough to second slip for a duck in the first over.\\n\\nCronje also fell to Gough for a duck as the home side closed the first day 155-6. The next three days were then wiped out competely due to a combination of rain and damp ground conditions before Cronje approached Hussain with a suggestion to manufacture a result. South Africa had already secured the series having won in Johannesburg and Cape Town, but Cronje (and his friends) wanted to create some interest in the final day at Centurion. The idea was for each side to forfeit an innings each, leaving the tourists with a run chase, so South Africa reached 248-8 on the final morning to set England 249 from 76 overs. Kirsten was one of several players opposed to the move, as he explained to BBC Sport. \"Hansie came up to us in the changing room on the last day and said: \\'I\\'m keen to forfeit the innings and set the total.\\'\\n\\n\"He asked the team and there was a mixed reception. \"Some of the guys felt we didn\\'t want to give England a chance of winning - you don\\'t mess around with Test matches - and some said nothing! \"Hansie just decided, and maybe we know why in hindsight, to go for it but there was quite a bit of resistance and some of the guys didn\\'t think it was a good idea at all.\" England\\'s 12th man that day was Phil Tufnell, who recalled: \"Everyone thought it was a very good gesture in the spirit of the game. \"The game had meandered along and all of a sudden it was like an old fashioned three-day county game and we were having a chase.\" Whatever the reasons - later it emerged that Cronje\\'s part had been simply to ensure against a draw - it led to a fascinating cricket match.\\n\\nEngland needed six from the final seven balls and Yorkshire tailenders Chris Silverwood and Darren Gough both hit boundaries to give them a two-wicket victory. \"It ended as a great day for cricket,\" Kirsten conceded. \"One could argue it was good for people who had been frustrated having not watched any cricket and suddenly got a great last day. \"But from a player\\'s point of view you\\'ve worked so hard for three months trying to win a Test series that you don\\'t give Test matches away, or create the opportunity to make it easy to win one.\" Tufnell has favourable memories of Cronje, who played county cricket for Leicestershire in the 1990s. \"He always came across as a nice bloke,\" the spinner said. \"He always came and said \\'Hi\\' and seemed a very intelligent captain, a good competitor and a good ambassador for South African cricket.\" Kirsten too recalls some positive images of Cronje. \"We all know that what he did cannot be condoned in any circumstances,\" he said. \"But my view is he did a huge amount for my career. \"I thought he was an outstanding captain and I\\'ve made mistakes in my life so I\\'m not in a position to be judgemental.\"\\n'\n"
     ]
    }
   ],
   "source": [
    "for i in range(len(X)):\n",
    "    if(chardet.detect(X[i])!=\"utf-8\"):\n",
    "        X[i] = X[i].decode(chardet.detect(X[i])['encoding']).encode('utf8')\n",
    "\n",
    "print(X[0])"
   ]
  },
  {
   "cell_type": "markdown",
   "metadata": {},
   "source": [
    "<h2>Pre-processing Data</h2>"
   ]
  },
  {
   "cell_type": "code",
   "execution_count": 3,
   "metadata": {},
   "outputs": [],
   "source": [
    "X = [doc.replace(b\"\", b\"\") for doc in X]\n",
    "X = [doc.replace(b\"\\n\", b\" \") for doc in X]"
   ]
  },
  {
   "cell_type": "markdown",
   "metadata": {},
   "source": [
    "<h2>Vectorizing tf-idf</h2>"
   ]
  },
  {
   "cell_type": "code",
   "execution_count": 4,
   "metadata": {},
   "outputs": [],
   "source": [
    "vectorizer = TfidfVectorizer(input=X, stop_words='english', norm='l2')\n",
    "X = vectorizer.fit_transform(X)"
   ]
  },
  {
   "cell_type": "markdown",
   "metadata": {},
   "source": [
    "<h2>Print Data(numberOfSamples, numberOfDataChannels)</h2>"
   ]
  },
  {
   "cell_type": "code",
   "execution_count": 5,
   "metadata": {},
   "outputs": [
    {
     "name": "stdout",
     "output_type": "stream",
     "text": [
      "(737, 13016)\n"
     ]
    }
   ],
   "source": [
    "print(X.shape)\n",
    "#print(vectorizer.get_feature_names())"
   ]
  },
  {
   "cell_type": "markdown",
   "metadata": {},
   "source": [
    "<h2>Validation using 5-Cross Validation</h2>"
   ]
  },
  {
   "cell_type": "code",
   "execution_count": 6,
   "metadata": {},
   "outputs": [
    {
     "name": "stdout",
     "output_type": "stream",
     "text": [
      "5-cross validation의 예측 정확도: 0.9728442728442728\n"
     ]
    }
   ],
   "source": [
    "knn = neighbors.KNeighborsClassifier(1)\n",
    "scores = cross_val_score(knn, X, y, cv=5)\n",
    "print(\"5-cross validation의 예측 정확도:\", np.average(scores))"
   ]
  },
  {
   "cell_type": "markdown",
   "metadata": {},
   "source": [
    "<h2>PCA(n_components=2)</h2>"
   ]
  },
  {
   "cell_type": "code",
   "execution_count": 7,
   "metadata": {},
   "outputs": [
    {
     "name": "stdout",
     "output_type": "stream",
     "text": [
      "(737, 13016)\n",
      "(737, 2)\n"
     ]
    }
   ],
   "source": [
    "#pca_2 = PCA(n_components=2)\n",
    "#pca_2.fit(X)\n",
    "#X_pca_2 = pca.transform(X)\n",
    "svd_2 = TruncatedSVD(n_components=2)\n",
    "svd_2.fit(X)\n",
    "X_svd_2 = svd_2.transform(X)\n",
    "print(X.shape)\n",
    "#print(X_pca_2.shape)\n",
    "print(X_svd_2.shape)"
   ]
  },
  {
   "cell_type": "code",
   "execution_count": 8,
   "metadata": {},
   "outputs": [
    {
     "name": "stdout",
     "output_type": "stream",
     "text": [
      "데이터 차원 2로 할 때의 예측 정확도: 0.6606453392167678\n"
     ]
    }
   ],
   "source": [
    "#scores_2 = cross_val_score(knn, X_pca_2, y, cv=5)\n",
    "scores_2 = cross_val_score(knn, X_svd_2, y, cv=5)\n",
    "print(\"데이터 차원 2로 할 때의 예측 정확도:\", np.average(scores_2))"
   ]
  },
  {
   "cell_type": "markdown",
   "metadata": {},
   "source": [
    "<h2>PCA(n_components=10)</h2>"
   ]
  },
  {
   "cell_type": "code",
   "execution_count": 9,
   "metadata": {},
   "outputs": [
    {
     "ename": "TypeError",
     "evalue": "PCA does not support sparse input. See TruncatedSVD for a possible alternative.",
     "output_type": "error",
     "traceback": [
      "\u001b[0;31m---------------------------------------------------------------------------\u001b[0m",
      "\u001b[0;31mTypeError\u001b[0m                                 Traceback (most recent call last)",
      "\u001b[0;32m/tmp/ipykernel_16049/3785684297.py\u001b[0m in \u001b[0;36m<module>\u001b[0;34m\u001b[0m\n\u001b[1;32m      1\u001b[0m \u001b[0mpca_10\u001b[0m \u001b[0;34m=\u001b[0m \u001b[0mPCA\u001b[0m\u001b[0;34m(\u001b[0m\u001b[0mn_components\u001b[0m\u001b[0;34m=\u001b[0m\u001b[0;36m10\u001b[0m\u001b[0;34m)\u001b[0m\u001b[0;34m\u001b[0m\u001b[0;34m\u001b[0m\u001b[0m\n\u001b[0;32m----> 2\u001b[0;31m \u001b[0mpca_10\u001b[0m\u001b[0;34m.\u001b[0m\u001b[0mfit\u001b[0m\u001b[0;34m(\u001b[0m\u001b[0mX\u001b[0m\u001b[0;34m)\u001b[0m\u001b[0;34m\u001b[0m\u001b[0;34m\u001b[0m\u001b[0m\n\u001b[0m\u001b[1;32m      3\u001b[0m \u001b[0mX_pca_10\u001b[0m \u001b[0;34m=\u001b[0m \u001b[0mpca\u001b[0m\u001b[0;34m.\u001b[0m\u001b[0mtransform\u001b[0m\u001b[0;34m(\u001b[0m\u001b[0mX\u001b[0m\u001b[0;34m)\u001b[0m\u001b[0;34m\u001b[0m\u001b[0;34m\u001b[0m\u001b[0m\n\u001b[1;32m      4\u001b[0m \u001b[0mprint\u001b[0m\u001b[0;34m(\u001b[0m\u001b[0mX\u001b[0m\u001b[0;34m.\u001b[0m\u001b[0mshape\u001b[0m\u001b[0;34m)\u001b[0m\u001b[0;34m\u001b[0m\u001b[0;34m\u001b[0m\u001b[0m\n\u001b[1;32m      5\u001b[0m \u001b[0mprint\u001b[0m\u001b[0;34m(\u001b[0m\u001b[0mX_pca_10\u001b[0m\u001b[0;34m.\u001b[0m\u001b[0mshape\u001b[0m\u001b[0;34m)\u001b[0m\u001b[0;34m\u001b[0m\u001b[0;34m\u001b[0m\u001b[0m\n",
      "\u001b[0;32m~/.local/lib/python3.8/site-packages/sklearn/decomposition/_pca.py\u001b[0m in \u001b[0;36mfit\u001b[0;34m(self, X, y)\u001b[0m\n\u001b[1;32m    380\u001b[0m             \u001b[0mReturns\u001b[0m \u001b[0mthe\u001b[0m \u001b[0minstance\u001b[0m \u001b[0mitself\u001b[0m\u001b[0;34m.\u001b[0m\u001b[0;34m\u001b[0m\u001b[0;34m\u001b[0m\u001b[0m\n\u001b[1;32m    381\u001b[0m         \"\"\"\n\u001b[0;32m--> 382\u001b[0;31m         \u001b[0mself\u001b[0m\u001b[0;34m.\u001b[0m\u001b[0m_fit\u001b[0m\u001b[0;34m(\u001b[0m\u001b[0mX\u001b[0m\u001b[0;34m)\u001b[0m\u001b[0;34m\u001b[0m\u001b[0;34m\u001b[0m\u001b[0m\n\u001b[0m\u001b[1;32m    383\u001b[0m         \u001b[0;32mreturn\u001b[0m \u001b[0mself\u001b[0m\u001b[0;34m\u001b[0m\u001b[0;34m\u001b[0m\u001b[0m\n\u001b[1;32m    384\u001b[0m \u001b[0;34m\u001b[0m\u001b[0m\n",
      "\u001b[0;32m~/.local/lib/python3.8/site-packages/sklearn/decomposition/_pca.py\u001b[0m in \u001b[0;36m_fit\u001b[0;34m(self, X)\u001b[0m\n\u001b[1;32m    423\u001b[0m         \u001b[0;31m# This is more informative than the generic one raised by check_array.\u001b[0m\u001b[0;34m\u001b[0m\u001b[0;34m\u001b[0m\u001b[0;34m\u001b[0m\u001b[0m\n\u001b[1;32m    424\u001b[0m         \u001b[0;32mif\u001b[0m \u001b[0missparse\u001b[0m\u001b[0;34m(\u001b[0m\u001b[0mX\u001b[0m\u001b[0;34m)\u001b[0m\u001b[0;34m:\u001b[0m\u001b[0;34m\u001b[0m\u001b[0;34m\u001b[0m\u001b[0m\n\u001b[0;32m--> 425\u001b[0;31m             raise TypeError(\n\u001b[0m\u001b[1;32m    426\u001b[0m                 \u001b[0;34m\"PCA does not support sparse input. See \"\u001b[0m\u001b[0;34m\u001b[0m\u001b[0;34m\u001b[0m\u001b[0m\n\u001b[1;32m    427\u001b[0m                 \u001b[0;34m\"TruncatedSVD for a possible alternative.\"\u001b[0m\u001b[0;34m\u001b[0m\u001b[0;34m\u001b[0m\u001b[0m\n",
      "\u001b[0;31mTypeError\u001b[0m: PCA does not support sparse input. See TruncatedSVD for a possible alternative."
     ]
    }
   ],
   "source": [
    "pca_10 = PCA(n_components=10)\n",
    "pca_10.fit(X)\n",
    "X_pca_10 = pca.transform(X)\n",
    "print(X.shape)\n",
    "print(X_pca_10.shape)"
   ]
  },
  {
   "cell_type": "code",
   "execution_count": null,
   "metadata": {},
   "outputs": [],
   "source": [
    "scores_10 = cross_val_score(knn, X_pca_10, y, cv=5)\n",
    "print(\"데이터 차원 10으로 할 때의 예측 정확도:\", np.average(scores_10))"
   ]
  }
 ],
 "metadata": {
  "kernelspec": {
   "display_name": "Python 3 (ipykernel)",
   "language": "python",
   "name": "python3"
  },
  "language_info": {
   "codemirror_mode": {
    "name": "ipython",
    "version": 3
   },
   "file_extension": ".py",
   "mimetype": "text/x-python",
   "name": "python",
   "nbconvert_exporter": "python",
   "pygments_lexer": "ipython3",
   "version": "3.8.5"
  }
 },
 "nbformat": 4,
 "nbformat_minor": 4
}
