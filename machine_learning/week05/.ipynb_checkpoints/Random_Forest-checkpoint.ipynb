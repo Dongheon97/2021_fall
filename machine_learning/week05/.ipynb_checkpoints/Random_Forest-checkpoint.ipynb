{
 "cells": [
  {
   "cell_type": "markdown",
   "metadata": {},
   "source": [
    "<h1>[ML05] Random Forest</h1>"
   ]
  },
  {
   "cell_type": "markdown",
   "metadata": {},
   "source": [
    "<h2>Import Library</h2>"
   ]
  },
  {
   "cell_type": "code",
   "execution_count": 8,
   "metadata": {},
   "outputs": [],
   "source": [
    "import pandas as pd\n",
    "import numpy as np\n",
    "\n",
    "from sklearn.ensemble import BaggingClassifier\n",
    "from sklearn.ensemble import RandomForestClassifier\n",
    "from sklearn.tree import DecisionTreeClassifier\n",
    "from sklearn.model_selection import train_test_split\n",
    "from sklearn.model_selection import cross_val_score\n",
    "from sklearn.model_selection import KFold"
   ]
  },
  {
   "cell_type": "markdown",
   "metadata": {},
   "source": [
    "<h2>Check & Divide Data</h2>"
   ]
  },
  {
   "cell_type": "code",
   "execution_count": 9,
   "metadata": {},
   "outputs": [
    {
     "name": "stdout",
     "output_type": "stream",
     "text": [
      "           0  1      2      3       4       5        6        7        8   \\\n",
      "0      842302  M  17.99  10.38  122.80  1001.0  0.11840  0.27760  0.30010   \n",
      "1      842517  M  20.57  17.77  132.90  1326.0  0.08474  0.07864  0.08690   \n",
      "2    84300903  M  19.69  21.25  130.00  1203.0  0.10960  0.15990  0.19740   \n",
      "3    84348301  M  11.42  20.38   77.58   386.1  0.14250  0.28390  0.24140   \n",
      "4    84358402  M  20.29  14.34  135.10  1297.0  0.10030  0.13280  0.19800   \n",
      "..        ... ..    ...    ...     ...     ...      ...      ...      ...   \n",
      "564    926424  M  21.56  22.39  142.00  1479.0  0.11100  0.11590  0.24390   \n",
      "565    926682  M  20.13  28.25  131.20  1261.0  0.09780  0.10340  0.14400   \n",
      "566    926954  M  16.60  28.08  108.30   858.1  0.08455  0.10230  0.09251   \n",
      "567    927241  M  20.60  29.33  140.10  1265.0  0.11780  0.27700  0.35140   \n",
      "568     92751  B   7.76  24.54   47.92   181.0  0.05263  0.04362  0.00000   \n",
      "\n",
      "          9   ...      22     23      24      25       26       27      28  \\\n",
      "0    0.14710  ...  25.380  17.33  184.60  2019.0  0.16220  0.66560  0.7119   \n",
      "1    0.07017  ...  24.990  23.41  158.80  1956.0  0.12380  0.18660  0.2416   \n",
      "2    0.12790  ...  23.570  25.53  152.50  1709.0  0.14440  0.42450  0.4504   \n",
      "3    0.10520  ...  14.910  26.50   98.87   567.7  0.20980  0.86630  0.6869   \n",
      "4    0.10430  ...  22.540  16.67  152.20  1575.0  0.13740  0.20500  0.4000   \n",
      "..       ...  ...     ...    ...     ...     ...      ...      ...     ...   \n",
      "564  0.13890  ...  25.450  26.40  166.10  2027.0  0.14100  0.21130  0.4107   \n",
      "565  0.09791  ...  23.690  38.25  155.00  1731.0  0.11660  0.19220  0.3215   \n",
      "566  0.05302  ...  18.980  34.12  126.70  1124.0  0.11390  0.30940  0.3403   \n",
      "567  0.15200  ...  25.740  39.42  184.60  1821.0  0.16500  0.86810  0.9387   \n",
      "568  0.00000  ...   9.456  30.37   59.16   268.6  0.08996  0.06444  0.0000   \n",
      "\n",
      "         29      30       31  \n",
      "0    0.2654  0.4601  0.11890  \n",
      "1    0.1860  0.2750  0.08902  \n",
      "2    0.2430  0.3613  0.08758  \n",
      "3    0.2575  0.6638  0.17300  \n",
      "4    0.1625  0.2364  0.07678  \n",
      "..      ...     ...      ...  \n",
      "564  0.2216  0.2060  0.07115  \n",
      "565  0.1628  0.2572  0.06637  \n",
      "566  0.1418  0.2218  0.07820  \n",
      "567  0.2650  0.4087  0.12400  \n",
      "568  0.0000  0.2871  0.07039  \n",
      "\n",
      "[569 rows x 32 columns]\n"
     ]
    }
   ],
   "source": [
    "# 바로 읽은 wdbc.data\n",
    "wdbc = pd.read_csv('./wdbc.data', header=None)\n",
    "print(wdbc)\n",
    "\n",
    "dataset = np.array(wdbc)\n",
    "#print(dataset)\n",
    "\n",
    "# col 0 : ID\n",
    "# col 1 : Target (M: 악성, B: 양성)\n",
    "# col 2~31 : Data\n",
    "\n",
    "patient_id = dataset[:, 0]\n",
    "target = dataset[:, 1]\n",
    "data = dataset[:, 2:]\n",
    "\n",
    "#print(patient_id)\n",
    "#print(data)\n",
    "#print(target)\n"
   ]
  },
  {
   "cell_type": "markdown",
   "metadata": {},
   "source": [
    "<h2>Split Data</h2>"
   ]
  },
  {
   "cell_type": "code",
   "execution_count": 10,
   "metadata": {},
   "outputs": [],
   "source": [
    "train_input, test_input, train_target, test_target = train_test_split(data, target, random_state=0)"
   ]
  },
  {
   "cell_type": "markdown",
   "metadata": {},
   "source": [
    "<h2>5-Cross Validation</h2>"
   ]
  },
  {
   "cell_type": "code",
   "execution_count": 11,
   "metadata": {},
   "outputs": [
    {
     "name": "stdout",
     "output_type": "stream",
     "text": [
      "Decision Tree 교차 검증 점수:  [0.94186047 0.89411765 0.92941176 0.95294118 0.88235294]\n",
      "Random Forest 1 교차 검증 점수:  [0.90697674 0.92941176 0.89411765 0.91764706 0.91764706]\n",
      "Random Forest 100 교차 검증 점수:  [0.98837209 0.95294118 0.96470588 0.96470588 0.96470588]\n"
     ]
    }
   ],
   "source": [
    "kfold = KFold(n_splits=5, shuffle=True, random_state=0)\n",
    "\n",
    "# Decision Tree \n",
    "tree = DecisionTreeClassifier(random_state=0)\n",
    "\n",
    "# Random Forest\n",
    "forest_1 = RandomForestClassifier(n_estimators=1, random_state=0)\n",
    "forest_100 = RandomForestClassifier(n_estimators=100, random_state=0)\n",
    "\n",
    "#bagging = BaggingClassifier(DecisionTreeClassifier(), n_estimators=5, random_state=0)\n",
    "\n",
    "score_tree = cross_val_score(tree, train_input, train_target, cv=kfold)\n",
    "score_forest_1 = cross_val_score(forest_1, train_input, train_target, cv=kfold)\n",
    "score_forest_100 = cross_val_score(forest_100, train_input, train_target, cv=kfold)\n",
    "\n",
    "print(\"Decision Tree 교차 검증 점수: \", score_tree)\n",
    "print(\"Random Forest 1 교차 검증 점수: \", score_forest_1)\n",
    "print(\"Random Forest 100 교차 검증 점수: \", score_forest_100)"
   ]
  },
  {
   "cell_type": "code",
   "execution_count": 12,
   "metadata": {},
   "outputs": [
    {
     "name": "stdout",
     "output_type": "stream",
     "text": [
      "Decision Tree 교차 검증 점수:  [0.94186047 0.90588235 0.95294118 0.96470588 0.92941176]\n",
      "Random Forest 1 교차 검증 점수:  [0.96511628 0.92941176 0.95294118 0.96470588 0.96470588]\n",
      "Random Forest 100 교차 검증 점수:  [0.96511628 0.95294118 0.95294118 0.96470588 0.95294118]\n"
     ]
    }
   ],
   "source": [
    "bagging_tree = BaggingClassifier(DecisionTreeClassifier())\n",
    "bagging_forest_1 = BaggingClassifier(RandomForestClassifier(), n_estimators=1, random_state=0)\n",
    "bagging_forest_100 = BaggingClassifier(RandomForestClassifier(), n_estimators=100, random_state=0)\n",
    "\n",
    "score_bagging_tree = cross_val_score(bagging_tree, train_input, train_target, cv=kfold)\n",
    "score_bagging_forest_1 = cross_val_score(bagging_forest_1, train_input, train_target, cv=kfold)\n",
    "score_bagging_forest_100 = cross_val_score(bagging_forest_100, train_input, train_target, cv=kfold)\n",
    "\n",
    "print(\"Decision Tree 교차 검증 점수: \", score_bagging_tree)\n",
    "print(\"Random Forest 1 교차 검증 점수: \", score_bagging_forest_1)\n",
    "print(\"Random Forest 100 교차 검증 점수: \", score_bagging_forest_100)"
   ]
  },
  {
   "cell_type": "markdown",
   "metadata": {},
   "source": [
    "<h2>Validate Test Data Using Best Model</h2>"
   ]
  },
  {
   "cell_type": "code",
   "execution_count": 13,
   "metadata": {},
   "outputs": [
    {
     "name": "stdout",
     "output_type": "stream",
     "text": [
      "Test Data에 대한 성능: 0.97202797\n"
     ]
    }
   ],
   "source": [
    "from sklearn.metrics import accuracy_score\n",
    "\n",
    "# Train\n",
    "forest_100.fit(train_input, train_target)\n",
    "\n",
    "# Accuracy\n",
    "predict = forest_100.predict(test_input)\n",
    "accuracy = accuracy_score(test_target, predict)\n",
    "\n",
    "print(f\"Test Data에 대한 성능: {accuracy:.8}\")"
   ]
  },
  {
   "cell_type": "markdown",
   "metadata": {},
   "source": [
    "<h2>[Plus] List Compare : 1 on 1 (predicted : test data) </h2>"
   ]
  },
  {
   "cell_type": "code",
   "execution_count": 14,
   "metadata": {},
   "outputs": [
    {
     "name": "stdout",
     "output_type": "stream",
     "text": [
      "['M' 'B' 'B' 'B' 'B' 'B' 'B' 'B' 'B' 'B' 'M' 'B' 'B' 'M' 'M' 'M' 'B' 'M'\n",
      " 'M' 'M' 'M' 'M' 'B' 'B' 'M' 'B' 'B' 'M' 'B' 'M' 'B' 'M' 'B' 'M' 'B' 'M'\n",
      " 'B' 'M' 'B' 'M' 'M' 'B' 'M' 'B' 'B' 'M' 'B' 'B' 'B' 'M' 'M' 'M' 'M' 'B'\n",
      " 'B' 'B' 'B' 'B' 'B' 'M' 'M' 'M' 'B' 'B' 'M' 'B' 'M' 'M' 'M' 'B' 'B' 'M'\n",
      " 'B' 'B' 'M' 'B' 'B' 'B' 'B' 'B' 'M' 'M' 'M' 'B' 'M' 'B' 'B' 'B' 'M' 'M'\n",
      " 'B' 'M' 'B' 'M' 'B' 'B' 'M' 'B' 'B' 'B' 'B' 'B' 'B' 'B' 'M' 'B' 'M' 'B'\n",
      " 'M' 'M' 'B' 'M' 'M' 'B' 'B' 'B' 'B' 'B' 'B' 'B' 'B' 'B' 'M' 'B' 'M' 'B'\n",
      " 'B' 'B' 'B' 'B' 'M' 'B' 'B' 'B' 'B' 'B' 'B' 'M' 'M' 'B' 'B' 'B' 'M']\n",
      "['M' 'B' 'B' 'B' 'B' 'B' 'B' 'B' 'B' 'B' 'B' 'B' 'B' 'B' 'B' 'M' 'B' 'M'\n",
      " 'M' 'M' 'M' 'M' 'B' 'B' 'M' 'B' 'B' 'M' 'B' 'M' 'B' 'M' 'B' 'M' 'B' 'M'\n",
      " 'B' 'M' 'B' 'M' 'M' 'B' 'M' 'B' 'B' 'M' 'B' 'B' 'B' 'M' 'M' 'M' 'M' 'B'\n",
      " 'B' 'B' 'B' 'B' 'B' 'M' 'M' 'M' 'B' 'B' 'M' 'B' 'M' 'M' 'M' 'B' 'B' 'M'\n",
      " 'B' 'M' 'M' 'B' 'B' 'B' 'B' 'B' 'M' 'M' 'M' 'B' 'M' 'B' 'B' 'B' 'M' 'M'\n",
      " 'B' 'M' 'B' 'M' 'B' 'B' 'M' 'B' 'B' 'B' 'B' 'B' 'B' 'B' 'M' 'B' 'M' 'B'\n",
      " 'M' 'M' 'B' 'M' 'M' 'B' 'B' 'B' 'B' 'B' 'B' 'B' 'B' 'B' 'M' 'B' 'M' 'B'\n",
      " 'B' 'B' 'B' 'B' 'M' 'B' 'B' 'B' 'B' 'B' 'B' 'M' 'M' 'B' 'B' 'B' 'M'] \n",
      "\n",
      "검증 성능: 0.97202797\n"
     ]
    }
   ],
   "source": [
    "print(predict)\n",
    "print(test_target,'\\n')\n",
    "\n",
    "count = 0\n",
    "\n",
    "for i in range(len(test_target)):\n",
    "    if (predict[i] != test_target[i]):\n",
    "        count += 1\n",
    "\n",
    "valid_err = (1 - (count / len(test_target)))\n",
    "print(f\"검증 성능: {valid_err:.8}\", )"
   ]
  }
 ],
 "metadata": {
  "kernelspec": {
   "display_name": "Python 3 (ipykernel)",
   "language": "python",
   "name": "python3"
  },
  "language_info": {
   "codemirror_mode": {
    "name": "ipython",
    "version": 3
   },
   "file_extension": ".py",
   "mimetype": "text/x-python",
   "name": "python",
   "nbconvert_exporter": "python",
   "pygments_lexer": "ipython3",
   "version": "3.8.5"
  }
 },
 "nbformat": 4,
 "nbformat_minor": 4
}
