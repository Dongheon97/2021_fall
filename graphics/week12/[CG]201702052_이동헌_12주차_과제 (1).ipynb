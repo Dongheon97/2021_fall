{
 "cells": [
  {
   "cell_type": "code",
   "execution_count": 1,
   "metadata": {
    "id": "Yoqpiz5ZEDZZ"
   },
   "outputs": [],
   "source": [
    "import matplotlib.pyplot as plt\n",
    "import numpy as np\n",
    "import os\n",
    "import PIL\n",
    "import tensorflow as tf\n",
    "import matplotlib.pyplot as plt\n",
    "\n",
    "\n",
    "from tensorflow import keras\n",
    "from tensorflow.keras import layers"
   ]
  },
  {
   "cell_type": "code",
   "execution_count": 2,
   "metadata": {
    "colab": {
     "base_uri": "https://localhost:8080/"
    },
    "id": "d4ERy7Z6EVTx",
    "outputId": "97a5ff19-8522-4912-eca4-7a9081183f7b"
   },
   "outputs": [
    {
     "name": "stdout",
     "output_type": "stream",
     "text": [
      "Downloading data from https://storage.googleapis.com/download.tensorflow.org/example_images/flower_photos.tgz\n",
      "228818944/228813984 [==============================] - 3s 0us/step\n",
      "228827136/228813984 [==============================] - 3s 0us/step\n"
     ]
    }
   ],
   "source": [
    "import pathlib\n",
    "dataset_url = \"https://storage.googleapis.com/download.tensorflow.org/example_images/flower_photos.tgz\"\n",
    "data_dir = tf.keras.utils.get_file('flower_photos', origin=dataset_url, untar=True)\n",
    "data_dir = pathlib.Path(data_dir)"
   ]
  },
  {
   "cell_type": "code",
   "execution_count": 3,
   "metadata": {
    "id": "yyw1h5bJEVR9"
   },
   "outputs": [],
   "source": [
    "input_shape = (224,224)\n",
    "batch_size = 32"
   ]
  },
  {
   "cell_type": "code",
   "execution_count": 4,
   "metadata": {
    "colab": {
     "base_uri": "https://localhost:8080/"
    },
    "id": "mpeCR50_EVPq",
    "outputId": "7eb7990f-acbf-452c-ffe2-d3f4289d1d85"
   },
   "outputs": [
    {
     "name": "stdout",
     "output_type": "stream",
     "text": [
      "Found 3670 files belonging to 5 classes.\n",
      "Using 2936 files for training.\n"
     ]
    }
   ],
   "source": [
    "train_ds = tf.keras.preprocessing.image_dataset_from_directory(\n",
    "  data_dir,\n",
    "  validation_split=0.2,\n",
    "  subset=\"training\",\n",
    "  seed=123,\n",
    "  image_size=input_shape,\n",
    "  batch_size=batch_size)"
   ]
  },
  {
   "cell_type": "code",
   "execution_count": 5,
   "metadata": {
    "colab": {
     "base_uri": "https://localhost:8080/"
    },
    "id": "BfVVWsqkEVNk",
    "outputId": "da095587-881c-4296-a308-7731d8cf7f42"
   },
   "outputs": [
    {
     "name": "stdout",
     "output_type": "stream",
     "text": [
      "Found 3670 files belonging to 5 classes.\n",
      "Using 734 files for validation.\n"
     ]
    }
   ],
   "source": [
    "val_ds = tf.keras.preprocessing.image_dataset_from_directory(\n",
    "  data_dir,\n",
    "  validation_split=0.2,\n",
    "  subset=\"validation\",\n",
    "  seed=123,\n",
    "  image_size=input_shape,\n",
    "  batch_size=batch_size)"
   ]
  },
  {
   "cell_type": "code",
   "execution_count": 6,
   "metadata": {
    "id": "Q3azjKruEVK3"
   },
   "outputs": [],
   "source": [
    "num_classes = 5\n",
    "input_shape = (224,224,3)\n",
    "\n",
    "model_input = keras.Input(shape=(224, 224,3), name=\"f_input\")\n",
    "x = layers.Conv2D(16, 3,padding=\"same\", activation=\"relu\")(model_input)\n",
    "x = layers.MaxPooling2D()(x)\n",
    "x = layers.Conv2D(32, 3,padding=\"same\", activation=\"relu\")(x)\n",
    "x = layers.MaxPooling2D()(x)\n",
    "x = layers.Conv2D(64, 3,padding=\"same\", activation=\"relu\")(x)\n",
    "x = layers.MaxPooling2D()(x)\n",
    "x = layers.Flatten()(x)\n",
    "x = layers.Dense(128,activation=\"relu\")(x)\n",
    "model_output = layers.Dense(num_classes,activation=\"softmax\")(x)\n",
    "\n",
    "functional_model = keras.Model(model_input, model_output, name=\"functional_model\")"
   ]
  },
  {
   "cell_type": "code",
   "execution_count": 7,
   "metadata": {
    "colab": {
     "base_uri": "https://localhost:8080/"
    },
    "id": "vmd6XcjyEVIv",
    "outputId": "8643181d-fc2a-44d4-efe8-bacfb05afa6b"
   },
   "outputs": [
    {
     "name": "stdout",
     "output_type": "stream",
     "text": [
      "Model: \"functional_model\"\n",
      "_________________________________________________________________\n",
      " Layer (type)                Output Shape              Param #   \n",
      "=================================================================\n",
      " f_input (InputLayer)        [(None, 224, 224, 3)]     0         \n",
      "                                                                 \n",
      " conv2d (Conv2D)             (None, 224, 224, 16)      448       \n",
      "                                                                 \n",
      " max_pooling2d (MaxPooling2D  (None, 112, 112, 16)     0         \n",
      " )                                                               \n",
      "                                                                 \n",
      " conv2d_1 (Conv2D)           (None, 112, 112, 32)      4640      \n",
      "                                                                 \n",
      " max_pooling2d_1 (MaxPooling  (None, 56, 56, 32)       0         \n",
      " 2D)                                                             \n",
      "                                                                 \n",
      " conv2d_2 (Conv2D)           (None, 56, 56, 64)        18496     \n",
      "                                                                 \n",
      " max_pooling2d_2 (MaxPooling  (None, 28, 28, 64)       0         \n",
      " 2D)                                                             \n",
      "                                                                 \n",
      " flatten (Flatten)           (None, 50176)             0         \n",
      "                                                                 \n",
      " dense (Dense)               (None, 128)               6422656   \n",
      "                                                                 \n",
      " dense_1 (Dense)             (None, 5)                 645       \n",
      "                                                                 \n",
      "=================================================================\n",
      "Total params: 6,446,885\n",
      "Trainable params: 6,446,885\n",
      "Non-trainable params: 0\n",
      "_________________________________________________________________\n"
     ]
    }
   ],
   "source": [
    "functional_model.summary()"
   ]
  },
  {
   "cell_type": "code",
   "execution_count": 8,
   "metadata": {
    "id": "12ilsG_9EVG8"
   },
   "outputs": [],
   "source": [
    "functional_model.compile(optimizer='Adam',\n",
    "              loss=tf.keras.losses.SparseCategoricalCrossentropy(from_logits=True),\n",
    "              metrics=['acc'])"
   ]
  },
  {
   "cell_type": "code",
   "execution_count": 9,
   "metadata": {
    "colab": {
     "base_uri": "https://localhost:8080/"
    },
    "id": "eCkzViQUEVC8",
    "outputId": "c8732489-a6ff-48fd-82f3-6024be448254"
   },
   "outputs": [
    {
     "name": "stdout",
     "output_type": "stream",
     "text": [
      "Epoch 1/10\n"
     ]
    },
    {
     "name": "stderr",
     "output_type": "stream",
     "text": [
      "/usr/local/lib/python3.7/dist-packages/tensorflow/python/util/dispatch.py:1096: UserWarning: \"`sparse_categorical_crossentropy` received `from_logits=True`, but the `output` argument was produced by a sigmoid or softmax activation and thus does not represent logits. Was this intended?\"\n",
      "  return dispatch_target(*args, **kwargs)\n"
     ]
    },
    {
     "name": "stdout",
     "output_type": "stream",
     "text": [
      "92/92 [==============================] - 23s 106ms/step - loss: 63.1664 - acc: 0.3171 - val_loss: 1.4672 - val_acc: 0.3706\n",
      "Epoch 2/10\n",
      "92/92 [==============================] - 10s 101ms/step - loss: 1.1486 - acc: 0.5402 - val_loss: 1.4611 - val_acc: 0.4401\n",
      "Epoch 3/10\n",
      "92/92 [==============================] - 10s 98ms/step - loss: 0.7462 - acc: 0.7289 - val_loss: 1.7230 - val_acc: 0.4387\n",
      "Epoch 4/10\n",
      "92/92 [==============================] - 9s 98ms/step - loss: 0.4409 - acc: 0.8437 - val_loss: 2.1098 - val_acc: 0.4755\n",
      "Epoch 5/10\n",
      "92/92 [==============================] - 10s 102ms/step - loss: 0.2806 - acc: 0.9043 - val_loss: 2.4522 - val_acc: 0.4809\n",
      "Epoch 6/10\n",
      "92/92 [==============================] - 10s 100ms/step - loss: 0.2515 - acc: 0.9257 - val_loss: 2.9531 - val_acc: 0.4850\n",
      "Epoch 7/10\n",
      "92/92 [==============================] - 10s 100ms/step - loss: 0.1831 - acc: 0.9452 - val_loss: 2.9580 - val_acc: 0.4728\n",
      "Epoch 8/10\n",
      "92/92 [==============================] - 10s 101ms/step - loss: 0.3355 - acc: 0.9067 - val_loss: 2.7499 - val_acc: 0.4278\n",
      "Epoch 9/10\n",
      "92/92 [==============================] - 10s 100ms/step - loss: 0.2571 - acc: 0.9257 - val_loss: 3.5592 - val_acc: 0.4441\n",
      "Epoch 10/10\n",
      "92/92 [==============================] - 10s 100ms/step - loss: 0.1867 - acc: 0.9472 - val_loss: 3.8498 - val_acc: 0.4005\n"
     ]
    }
   ],
   "source": [
    "epochs=10\n",
    "history = functional_model.fit(\n",
    "  train_ds,\n",
    "  validation_data=val_ds,\n",
    "  epochs=epochs\n",
    ")"
   ]
  },
  {
   "cell_type": "code",
   "execution_count": 10,
   "metadata": {
    "id": "VBf536BzEVBB"
   },
   "outputs": [],
   "source": [
    "num_classes = 5\n",
    "input_shape = (224,224,3)\n",
    "\n",
    "def func_model(num_classes, input_shape):\n",
    "    model_input = keras.Input(shape=input_shape, name=\"f_input\")\n",
    "    x = layers.Conv2D(16, 3,padding=\"same\", activation=\"relu\")(model_input)\n",
    "    x = layers.MaxPooling2D()(x)\n",
    "    x = layers.Conv2D(32, 3,padding=\"same\", activation=\"relu\")(x)\n",
    "    x = layers.MaxPooling2D()(x)\n",
    "    x = layers.Conv2D(64, 3,padding=\"same\", activation=\"relu\")(x)\n",
    "    x = layers.MaxPooling2D()(x)\n",
    "    x = layers.Flatten()(x)\n",
    "    x = layers.Dense(128,activation=\"relu\")(x)\n",
    "    model_output = layers.Dense(num_classes,activation=\"softmax\")(x)\n",
    "\n",
    "    return keras.Model(model_input, model_output, name=\"functional_model\")"
   ]
  },
  {
   "cell_type": "code",
   "execution_count": 11,
   "metadata": {
    "id": "RskRMGPXEU-0"
   },
   "outputs": [],
   "source": [
    "functional_model = func_model(num_classes,input_shape)"
   ]
  },
  {
   "cell_type": "code",
   "execution_count": 12,
   "metadata": {
    "colab": {
     "base_uri": "https://localhost:8080/"
    },
    "id": "zREW0UhbEU8f",
    "outputId": "b083d6bd-928b-42e7-d060-7283f42ec328"
   },
   "outputs": [
    {
     "name": "stdout",
     "output_type": "stream",
     "text": [
      "Model: \"functional_model\"\n",
      "_________________________________________________________________\n",
      " Layer (type)                Output Shape              Param #   \n",
      "=================================================================\n",
      " f_input (InputLayer)        [(None, 224, 224, 3)]     0         \n",
      "                                                                 \n",
      " conv2d_3 (Conv2D)           (None, 224, 224, 16)      448       \n",
      "                                                                 \n",
      " max_pooling2d_3 (MaxPooling  (None, 112, 112, 16)     0         \n",
      " 2D)                                                             \n",
      "                                                                 \n",
      " conv2d_4 (Conv2D)           (None, 112, 112, 32)      4640      \n",
      "                                                                 \n",
      " max_pooling2d_4 (MaxPooling  (None, 56, 56, 32)       0         \n",
      " 2D)                                                             \n",
      "                                                                 \n",
      " conv2d_5 (Conv2D)           (None, 56, 56, 64)        18496     \n",
      "                                                                 \n",
      " max_pooling2d_5 (MaxPooling  (None, 28, 28, 64)       0         \n",
      " 2D)                                                             \n",
      "                                                                 \n",
      " flatten_1 (Flatten)         (None, 50176)             0         \n",
      "                                                                 \n",
      " dense_2 (Dense)             (None, 128)               6422656   \n",
      "                                                                 \n",
      " dense_3 (Dense)             (None, 5)                 645       \n",
      "                                                                 \n",
      "=================================================================\n",
      "Total params: 6,446,885\n",
      "Trainable params: 6,446,885\n",
      "Non-trainable params: 0\n",
      "_________________________________________________________________\n"
     ]
    }
   ],
   "source": [
    "functional_model.summary()"
   ]
  },
  {
   "cell_type": "code",
   "execution_count": 13,
   "metadata": {
    "id": "ScbRld6IEU6L"
   },
   "outputs": [],
   "source": [
    "class MyModel(tf.keras.Model):\n",
    "\n",
    "  def __init__(self,num_classes,input_shape):\n",
    "    super().__init__()\n",
    "    self.conv1 = layers.Conv2D(16, 3,padding=\"same\", activation=\"relu\",input_shape=input_shape)\n",
    "    self.conv2 = layers.Conv2D(32, 3,padding=\"same\", activation=\"relu\")\n",
    "    self.conv3 = layers.Conv2D(64, 3,padding=\"same\", activation=\"relu\")\n",
    "    self.maxpool2d = layers.MaxPooling2D()\n",
    "    self.flatten = layers.Flatten()\n",
    "    self.dense1 = layers.Dense(128,activation=\"relu\")\n",
    "    self.dense2 = layers.Dense(num_classes,activation=\"softmax\")\n",
    "    \n",
    "\n",
    "  def call(self, inputs):\n",
    "    x = self.conv1(inputs)\n",
    "    x = self.maxpool2d(x)\n",
    "    x = self.conv2(x)\n",
    "    x = self.maxpool2d(x)\n",
    "    x = self.conv3(x)\n",
    "    x = self.maxpool2d(x)\n",
    "\n",
    "    x = self.flatten(x)\n",
    "    x = self.dense1(x)\n",
    "    out = self.dense2(x)\n",
    "\n",
    "    return out\n",
    "\n",
    "subclass_model = MyModel(num_classes,input_shape)"
   ]
  },
  {
   "cell_type": "code",
   "execution_count": 14,
   "metadata": {
    "id": "2E3Dllx1EU36"
   },
   "outputs": [],
   "source": [
    "subclass_model.compile(optimizer='Adam',\n",
    "              loss=tf.keras.losses.SparseCategoricalCrossentropy(from_logits=True),\n",
    "              metrics=['acc'])"
   ]
  },
  {
   "cell_type": "code",
   "execution_count": 15,
   "metadata": {
    "colab": {
     "base_uri": "https://localhost:8080/"
    },
    "id": "tMj_mVBkEU2K",
    "outputId": "c6a08dee-b8cb-46c0-d998-73fb7ec442cd"
   },
   "outputs": [
    {
     "name": "stdout",
     "output_type": "stream",
     "text": [
      "Epoch 1/10\n"
     ]
    },
    {
     "name": "stderr",
     "output_type": "stream",
     "text": [
      "/usr/local/lib/python3.7/dist-packages/tensorflow/python/util/dispatch.py:1096: UserWarning: \"`sparse_categorical_crossentropy` received `from_logits=True`, but the `output` argument was produced by a sigmoid or softmax activation and thus does not represent logits. Was this intended?\"\n",
      "  return dispatch_target(*args, **kwargs)\n"
     ]
    },
    {
     "name": "stdout",
     "output_type": "stream",
     "text": [
      "92/92 [==============================] - 10s 100ms/step - loss: 62.7688 - acc: 0.2715 - val_loss: 1.5175 - val_acc: 0.3297\n",
      "Epoch 2/10\n",
      "92/92 [==============================] - 10s 100ms/step - loss: 1.2683 - acc: 0.4748 - val_loss: 1.4852 - val_acc: 0.3542\n",
      "Epoch 3/10\n",
      "92/92 [==============================] - 10s 100ms/step - loss: 0.9189 - acc: 0.6444 - val_loss: 1.6471 - val_acc: 0.3815\n",
      "Epoch 4/10\n",
      "92/92 [==============================] - 10s 100ms/step - loss: 0.6008 - acc: 0.7878 - val_loss: 1.9182 - val_acc: 0.4183\n",
      "Epoch 5/10\n",
      "92/92 [==============================] - 10s 100ms/step - loss: 0.3776 - acc: 0.8699 - val_loss: 2.6742 - val_acc: 0.3815\n",
      "Epoch 6/10\n",
      "92/92 [==============================] - 10s 99ms/step - loss: 0.2721 - acc: 0.9196 - val_loss: 2.8689 - val_acc: 0.4128\n",
      "Epoch 7/10\n",
      "92/92 [==============================] - 9s 98ms/step - loss: 0.1945 - acc: 0.9452 - val_loss: 3.0287 - val_acc: 0.4482\n",
      "Epoch 8/10\n",
      "92/92 [==============================] - 10s 100ms/step - loss: 0.2301 - acc: 0.9411 - val_loss: 2.8077 - val_acc: 0.4469\n",
      "Epoch 9/10\n",
      "92/92 [==============================] - 9s 97ms/step - loss: 0.1243 - acc: 0.9683 - val_loss: 3.5796 - val_acc: 0.3856\n",
      "Epoch 10/10\n",
      "92/92 [==============================] - 10s 100ms/step - loss: 0.0947 - acc: 0.9728 - val_loss: 3.4146 - val_acc: 0.4278\n"
     ]
    }
   ],
   "source": [
    "epochs=10\n",
    "history = subclass_model.fit(\n",
    "  train_ds,\n",
    "  validation_data=val_ds,\n",
    "  epochs=epochs\n",
    ")"
   ]
  },
  {
   "cell_type": "code",
   "execution_count": 16,
   "metadata": {
    "id": "3AXN_mYpEUz5"
   },
   "outputs": [],
   "source": [
    "num_classes = 5\n",
    "input_shape = (224,224,3)\n",
    "\n",
    "model_input = keras.Input(shape=(224, 224,3), name=\"f_input\")\n",
    "x1 = layers.Conv2D(16, 3,padding=\"same\", activation=\"relu\")(model_input)\n",
    "x1 = layers.MaxPooling2D()(x1)\n",
    "x2 = layers.Conv2D(32, 3,padding=\"same\", activation=\"relu\")(x1)\n",
    "x2 = layers.MaxPooling2D()(x2)\n",
    "x3 = layers.Conv2D(64, 3,padding=\"same\", activation=\"relu\")(x1)\n",
    "x3 = layers.MaxPooling2D()(x3)\n",
    "flat2 = layers.Flatten()(x2)\n",
    "flat3 = layers.Flatten()(x3)\n",
    "d1 = layers.Dense(128,activation=\"relu\")(flat2)\n",
    "d2 = layers.Dense(num_classes,activation=\"softmax\")(flat3)\n",
    "\n",
    "functional_model = keras.Model(model_input, (d1,d2))"
   ]
  },
  {
   "cell_type": "code",
   "execution_count": 17,
   "metadata": {
    "colab": {
     "base_uri": "https://localhost:8080/"
    },
    "id": "jSOxMg4dEUxj",
    "outputId": "bf961ba9-feaf-4591-c6d5-4d5d5dfe961b"
   },
   "outputs": [
    {
     "name": "stdout",
     "output_type": "stream",
     "text": [
      "Model: \"model\"\n",
      "__________________________________________________________________________________________________\n",
      " Layer (type)                   Output Shape         Param #     Connected to                     \n",
      "==================================================================================================\n",
      " f_input (InputLayer)           [(None, 224, 224, 3  0           []                               \n",
      "                                )]                                                                \n",
      "                                                                                                  \n",
      " conv2d_9 (Conv2D)              (None, 224, 224, 16  448         ['f_input[0][0]']                \n",
      "                                )                                                                 \n",
      "                                                                                                  \n",
      " max_pooling2d_7 (MaxPooling2D)  (None, 112, 112, 16  0          ['conv2d_9[0][0]']               \n",
      "                                )                                                                 \n",
      "                                                                                                  \n",
      " conv2d_10 (Conv2D)             (None, 112, 112, 32  4640        ['max_pooling2d_7[0][0]']        \n",
      "                                )                                                                 \n",
      "                                                                                                  \n",
      " conv2d_11 (Conv2D)             (None, 112, 112, 64  9280        ['max_pooling2d_7[0][0]']        \n",
      "                                )                                                                 \n",
      "                                                                                                  \n",
      " max_pooling2d_8 (MaxPooling2D)  (None, 56, 56, 32)  0           ['conv2d_10[0][0]']              \n",
      "                                                                                                  \n",
      " max_pooling2d_9 (MaxPooling2D)  (None, 56, 56, 64)  0           ['conv2d_11[0][0]']              \n",
      "                                                                                                  \n",
      " flatten_3 (Flatten)            (None, 100352)       0           ['max_pooling2d_8[0][0]']        \n",
      "                                                                                                  \n",
      " flatten_4 (Flatten)            (None, 200704)       0           ['max_pooling2d_9[0][0]']        \n",
      "                                                                                                  \n",
      " dense_6 (Dense)                (None, 128)          12845184    ['flatten_3[0][0]']              \n",
      "                                                                                                  \n",
      " dense_7 (Dense)                (None, 5)            1003525     ['flatten_4[0][0]']              \n",
      "                                                                                                  \n",
      "==================================================================================================\n",
      "Total params: 13,863,077\n",
      "Trainable params: 13,863,077\n",
      "Non-trainable params: 0\n",
      "__________________________________________________________________________________________________\n"
     ]
    }
   ],
   "source": [
    "functional_model.summary()"
   ]
  },
  {
   "cell_type": "code",
   "execution_count": 18,
   "metadata": {
    "id": "bV1ClpCzEUvm"
   },
   "outputs": [],
   "source": [
    "num_classes = 5\n",
    "input_shape = (224,224,3)\n",
    "\n",
    "model_input = keras.Input(shape=(224, 224,3), name=\"f_input\")\n",
    "x1 = layers.Conv2D(16, 3,padding=\"same\", activation=\"relu\")(model_input)\n",
    "x1 = layers.MaxPooling2D()(x1)\n",
    "x2 = layers.Conv2D(32, 3,padding=\"same\", activation=\"relu\")(x1)\n",
    "x2 = layers.MaxPooling2D()(x2)\n",
    "x3 = layers.Conv2D(64, 3,padding=\"same\", activation=\"relu\")(x1)\n",
    "x3 = layers.MaxPooling2D()(x3)\n",
    "\n",
    "con1 = layers.Concatenate()([x2,x3])\n",
    "flat = layers.Flatten()(con1)\n",
    "\n",
    "d1 = layers.Dense(128,activation=\"relu\")(flat)\n",
    "d2 = layers.Dense(num_classes,activation=\"softmax\")(d1)\n",
    "\n",
    "functional_model = keras.Model(model_input, d2)"
   ]
  },
  {
   "cell_type": "code",
   "execution_count": 19,
   "metadata": {
    "colab": {
     "base_uri": "https://localhost:8080/"
    },
    "id": "vZEoHa4aEUtm",
    "outputId": "fb2291a7-f651-4f09-f155-508200099250"
   },
   "outputs": [
    {
     "name": "stdout",
     "output_type": "stream",
     "text": [
      "Model: \"model_1\"\n",
      "__________________________________________________________________________________________________\n",
      " Layer (type)                   Output Shape         Param #     Connected to                     \n",
      "==================================================================================================\n",
      " f_input (InputLayer)           [(None, 224, 224, 3  0           []                               \n",
      "                                )]                                                                \n",
      "                                                                                                  \n",
      " conv2d_12 (Conv2D)             (None, 224, 224, 16  448         ['f_input[0][0]']                \n",
      "                                )                                                                 \n",
      "                                                                                                  \n",
      " max_pooling2d_10 (MaxPooling2D  (None, 112, 112, 16  0          ['conv2d_12[0][0]']              \n",
      " )                              )                                                                 \n",
      "                                                                                                  \n",
      " conv2d_13 (Conv2D)             (None, 112, 112, 32  4640        ['max_pooling2d_10[0][0]']       \n",
      "                                )                                                                 \n",
      "                                                                                                  \n",
      " conv2d_14 (Conv2D)             (None, 112, 112, 64  9280        ['max_pooling2d_10[0][0]']       \n",
      "                                )                                                                 \n",
      "                                                                                                  \n",
      " max_pooling2d_11 (MaxPooling2D  (None, 56, 56, 32)  0           ['conv2d_13[0][0]']              \n",
      " )                                                                                                \n",
      "                                                                                                  \n",
      " max_pooling2d_12 (MaxPooling2D  (None, 56, 56, 64)  0           ['conv2d_14[0][0]']              \n",
      " )                                                                                                \n",
      "                                                                                                  \n",
      " concatenate (Concatenate)      (None, 56, 56, 96)   0           ['max_pooling2d_11[0][0]',       \n",
      "                                                                  'max_pooling2d_12[0][0]']       \n",
      "                                                                                                  \n",
      " flatten_5 (Flatten)            (None, 301056)       0           ['concatenate[0][0]']            \n",
      "                                                                                                  \n",
      " dense_8 (Dense)                (None, 128)          38535296    ['flatten_5[0][0]']              \n",
      "                                                                                                  \n",
      " dense_9 (Dense)                (None, 5)            645         ['dense_8[0][0]']                \n",
      "                                                                                                  \n",
      "==================================================================================================\n",
      "Total params: 38,550,309\n",
      "Trainable params: 38,550,309\n",
      "Non-trainable params: 0\n",
      "__________________________________________________________________________________________________\n"
     ]
    }
   ],
   "source": [
    "functional_model.summary()"
   ]
  },
  {
   "cell_type": "code",
   "execution_count": 20,
   "metadata": {
    "colab": {
     "base_uri": "https://localhost:8080/"
    },
    "id": "jepZXuWKEUrW",
    "outputId": "8d349818-3aad-49a1-d5e8-8fbfb3d34013"
   },
   "outputs": [
    {
     "name": "stdout",
     "output_type": "stream",
     "text": [
      "Model: \"model_1\"\n",
      "__________________________________________________________________________________________________\n",
      " Layer (type)                   Output Shape         Param #     Connected to                     \n",
      "==================================================================================================\n",
      " f_input (InputLayer)           [(None, 224, 224, 3  0           []                               \n",
      "                                )]                                                                \n",
      "                                                                                                  \n",
      " conv2d_12 (Conv2D)             (None, 224, 224, 16  448         ['f_input[0][0]']                \n",
      "                                )                                                                 \n",
      "                                                                                                  \n",
      " max_pooling2d_10 (MaxPooling2D  (None, 112, 112, 16  0          ['conv2d_12[0][0]']              \n",
      " )                              )                                                                 \n",
      "                                                                                                  \n",
      " conv2d_13 (Conv2D)             (None, 112, 112, 32  4640        ['max_pooling2d_10[0][0]']       \n",
      "                                )                                                                 \n",
      "                                                                                                  \n",
      " conv2d_14 (Conv2D)             (None, 112, 112, 64  9280        ['max_pooling2d_10[0][0]']       \n",
      "                                )                                                                 \n",
      "                                                                                                  \n",
      " max_pooling2d_11 (MaxPooling2D  (None, 56, 56, 32)  0           ['conv2d_13[0][0]']              \n",
      " )                                                                                                \n",
      "                                                                                                  \n",
      " max_pooling2d_12 (MaxPooling2D  (None, 56, 56, 64)  0           ['conv2d_14[0][0]']              \n",
      " )                                                                                                \n",
      "                                                                                                  \n",
      " concatenate (Concatenate)      (None, 56, 56, 96)   0           ['max_pooling2d_11[0][0]',       \n",
      "                                                                  'max_pooling2d_12[0][0]']       \n",
      "                                                                                                  \n",
      " flatten_5 (Flatten)            (None, 301056)       0           ['concatenate[0][0]']            \n",
      "                                                                                                  \n",
      " dense_8 (Dense)                (None, 128)          38535296    ['flatten_5[0][0]']              \n",
      "                                                                                                  \n",
      " dense_9 (Dense)                (None, 5)            645         ['dense_8[0][0]']                \n",
      "                                                                                                  \n",
      "==================================================================================================\n",
      "Total params: 38,550,309\n",
      "Trainable params: 38,550,309\n",
      "Non-trainable params: 0\n",
      "__________________________________________________________________________________________________\n"
     ]
    }
   ],
   "source": [
    "functional_model.summary()"
   ]
  },
  {
   "cell_type": "markdown",
   "metadata": {
    "id": "oP7Lev_y0Qgq"
   },
   "source": [
    "<h1>GoogLeNet</h1>\n"
   ]
  },
  {
   "cell_type": "markdown",
   "metadata": {
    "id": "R4j5khULNjJ6"
   },
   "source": [
    "<h3>201702052 이동헌</h3>"
   ]
  },
  {
   "cell_type": "code",
   "execution_count": 21,
   "metadata": {
    "id": "sSAjFmy1EtsI"
   },
   "outputs": [],
   "source": [
    "from tensorflow import keras\n",
    "from tensorflow.keras import layers\n",
    "\n",
    "'''\n",
    "GoogLeNet 코드 작성\n",
    "functional API, subclass model 중 원하는 방식으로 구현\n",
    "함수를 사용하면 보다 간편하게 구현 가능\n",
    "'''\n",
    "\n",
    "def inception_module(input_layer,filter1,filter2,filter3):\n",
    "  for_con0 = layers.Conv2D(filters=filter1, kernel_size=(1,1), strides=(1,1), padding='same', activation='relu')(input_layer)\n",
    "\n",
    "  for_con1 = layers.Conv2D(filters=filter1, kernel_size=(1,1), strides=(1,1), padding='same', activation='relu')(input_layer)\n",
    "  for_con1 = layers.Conv2D(filters=filter2, kernel_size=(3,3), strides=(1,1), padding='same', activation='relu')(for_con1)\n",
    "\n",
    "  for_con2 = layers.Conv2D(filters=filter1, kernel_size=(1,1), strides=(1,1), padding='same', activation='relu')(input_layer)\n",
    "  for_con2 = layers.Conv2D(filters=filter3, kernel_size=(5,5), strides=(1,1), padding='same', activation='relu')(for_con2)\n",
    "\n",
    "  for_con3 = layers.MaxPooling2D(pool_size=(3,3), strides=(1,1), padding='same')(input_layer)\n",
    "  for_con3 = layers.Conv2D(filters=filter1, kernel_size=(1,1), strides=(1,1), padding='same', activation='relu')(for_con3)\n",
    "\n",
    "  outputs = layers.Concatenate()([for_con0, for_con1, for_con2, for_con3])\n",
    "  return outputs"
   ]
  },
  {
   "cell_type": "code",
   "execution_count": 22,
   "metadata": {
    "colab": {
     "base_uri": "https://localhost:8080/"
    },
    "id": "68NmbBR8Etpw",
    "outputId": "15f38021-5d15-4bec-87c7-7b8110adf7e2"
   },
   "outputs": [
    {
     "name": "stdout",
     "output_type": "stream",
     "text": [
      "Model: \"GoogLeNet\"\n",
      "__________________________________________________________________________________________________\n",
      " Layer (type)                   Output Shape         Param #     Connected to                     \n",
      "==================================================================================================\n",
      " f_input (InputLayer)           [(None, 224, 224, 3  0           []                               \n",
      "                                )]                                                                \n",
      "                                                                                                  \n",
      " conv2d_15 (Conv2D)             (None, 112, 112, 64  9472        ['f_input[0][0]']                \n",
      "                                )                                                                 \n",
      "                                                                                                  \n",
      " max_pooling2d_13 (MaxPooling2D  (None, 56, 56, 64)  0           ['conv2d_15[0][0]']              \n",
      " )                                                                                                \n",
      "                                                                                                  \n",
      " layer_normalization (LayerNorm  (None, 56, 56, 64)  128         ['max_pooling2d_13[0][0]']       \n",
      " alization)                                                                                       \n",
      "                                                                                                  \n",
      " conv2d_16 (Conv2D)             (None, 56, 56, 64)   4160        ['layer_normalization[0][0]']    \n",
      "                                                                                                  \n",
      " conv2d_17 (Conv2D)             (None, 56, 56, 192)  110784      ['conv2d_16[0][0]']              \n",
      "                                                                                                  \n",
      " layer_normalization_1 (LayerNo  (None, 56, 56, 192)  384        ['conv2d_17[0][0]']              \n",
      " rmalization)                                                                                     \n",
      "                                                                                                  \n",
      " max_pooling2d_14 (MaxPooling2D  (None, 28, 28, 192)  0          ['layer_normalization_1[0][0]']  \n",
      " )                                                                                                \n",
      "                                                                                                  \n",
      " conv2d_19 (Conv2D)             (None, 28, 28, 64)   12352       ['max_pooling2d_14[0][0]']       \n",
      "                                                                                                  \n",
      " conv2d_21 (Conv2D)             (None, 28, 28, 64)   12352       ['max_pooling2d_14[0][0]']       \n",
      "                                                                                                  \n",
      " max_pooling2d_15 (MaxPooling2D  (None, 28, 28, 192)  0          ['max_pooling2d_14[0][0]']       \n",
      " )                                                                                                \n",
      "                                                                                                  \n",
      " conv2d_18 (Conv2D)             (None, 28, 28, 64)   12352       ['max_pooling2d_14[0][0]']       \n",
      "                                                                                                  \n",
      " conv2d_20 (Conv2D)             (None, 28, 28, 128)  73856       ['conv2d_19[0][0]']              \n",
      "                                                                                                  \n",
      " conv2d_22 (Conv2D)             (None, 28, 28, 32)   51232       ['conv2d_21[0][0]']              \n",
      "                                                                                                  \n",
      " conv2d_23 (Conv2D)             (None, 28, 28, 64)   12352       ['max_pooling2d_15[0][0]']       \n",
      "                                                                                                  \n",
      " concatenate_1 (Concatenate)    (None, 28, 28, 288)  0           ['conv2d_18[0][0]',              \n",
      "                                                                  'conv2d_20[0][0]',              \n",
      "                                                                  'conv2d_22[0][0]',              \n",
      "                                                                  'conv2d_23[0][0]']              \n",
      "                                                                                                  \n",
      " conv2d_25 (Conv2D)             (None, 28, 28, 128)  36992       ['concatenate_1[0][0]']          \n",
      "                                                                                                  \n",
      " conv2d_27 (Conv2D)             (None, 28, 28, 128)  36992       ['concatenate_1[0][0]']          \n",
      "                                                                                                  \n",
      " max_pooling2d_16 (MaxPooling2D  (None, 28, 28, 288)  0          ['concatenate_1[0][0]']          \n",
      " )                                                                                                \n",
      "                                                                                                  \n",
      " conv2d_24 (Conv2D)             (None, 28, 28, 128)  36992       ['concatenate_1[0][0]']          \n",
      "                                                                                                  \n",
      " conv2d_26 (Conv2D)             (None, 28, 28, 192)  221376      ['conv2d_25[0][0]']              \n",
      "                                                                                                  \n",
      " conv2d_28 (Conv2D)             (None, 28, 28, 96)   307296      ['conv2d_27[0][0]']              \n",
      "                                                                                                  \n",
      " conv2d_29 (Conv2D)             (None, 28, 28, 128)  36992       ['max_pooling2d_16[0][0]']       \n",
      "                                                                                                  \n",
      " concatenate_2 (Concatenate)    (None, 28, 28, 544)  0           ['conv2d_24[0][0]',              \n",
      "                                                                  'conv2d_26[0][0]',              \n",
      "                                                                  'conv2d_28[0][0]',              \n",
      "                                                                  'conv2d_29[0][0]']              \n",
      "                                                                                                  \n",
      " max_pooling2d_17 (MaxPooling2D  (None, 14, 14, 544)  0          ['concatenate_2[0][0]']          \n",
      " )                                                                                                \n",
      "                                                                                                  \n",
      " conv2d_31 (Conv2D)             (None, 14, 14, 192)  104640      ['max_pooling2d_17[0][0]']       \n",
      "                                                                                                  \n",
      " conv2d_33 (Conv2D)             (None, 14, 14, 192)  104640      ['max_pooling2d_17[0][0]']       \n",
      "                                                                                                  \n",
      " max_pooling2d_18 (MaxPooling2D  (None, 14, 14, 544)  0          ['max_pooling2d_17[0][0]']       \n",
      " )                                                                                                \n",
      "                                                                                                  \n",
      " conv2d_30 (Conv2D)             (None, 14, 14, 192)  104640      ['max_pooling2d_17[0][0]']       \n",
      "                                                                                                  \n",
      " conv2d_32 (Conv2D)             (None, 14, 14, 208)  359632      ['conv2d_31[0][0]']              \n",
      "                                                                                                  \n",
      " conv2d_34 (Conv2D)             (None, 14, 14, 48)   230448      ['conv2d_33[0][0]']              \n",
      "                                                                                                  \n",
      " conv2d_35 (Conv2D)             (None, 14, 14, 192)  104640      ['max_pooling2d_18[0][0]']       \n",
      "                                                                                                  \n",
      " concatenate_3 (Concatenate)    (None, 14, 14, 640)  0           ['conv2d_30[0][0]',              \n",
      "                                                                  'conv2d_32[0][0]',              \n",
      "                                                                  'conv2d_34[0][0]',              \n",
      "                                                                  'conv2d_35[0][0]']              \n",
      "                                                                                                  \n",
      " conv2d_37 (Conv2D)             (None, 14, 14, 160)  102560      ['concatenate_3[0][0]']          \n",
      "                                                                                                  \n",
      " conv2d_39 (Conv2D)             (None, 14, 14, 160)  102560      ['concatenate_3[0][0]']          \n",
      "                                                                                                  \n",
      " max_pooling2d_19 (MaxPooling2D  (None, 14, 14, 640)  0          ['concatenate_3[0][0]']          \n",
      " )                                                                                                \n",
      "                                                                                                  \n",
      " conv2d_36 (Conv2D)             (None, 14, 14, 160)  102560      ['concatenate_3[0][0]']          \n",
      "                                                                                                  \n",
      " conv2d_38 (Conv2D)             (None, 14, 14, 224)  322784      ['conv2d_37[0][0]']              \n",
      "                                                                                                  \n",
      " conv2d_40 (Conv2D)             (None, 14, 14, 64)   256064      ['conv2d_39[0][0]']              \n",
      "                                                                                                  \n",
      " conv2d_41 (Conv2D)             (None, 14, 14, 160)  102560      ['max_pooling2d_19[0][0]']       \n",
      "                                                                                                  \n",
      " concatenate_4 (Concatenate)    (None, 14, 14, 608)  0           ['conv2d_36[0][0]',              \n",
      "                                                                  'conv2d_38[0][0]',              \n",
      "                                                                  'conv2d_40[0][0]',              \n",
      "                                                                  'conv2d_41[0][0]']              \n",
      "                                                                                                  \n",
      " conv2d_43 (Conv2D)             (None, 14, 14, 128)  77952       ['concatenate_4[0][0]']          \n",
      "                                                                                                  \n",
      " conv2d_45 (Conv2D)             (None, 14, 14, 128)  77952       ['concatenate_4[0][0]']          \n",
      "                                                                                                  \n",
      " max_pooling2d_20 (MaxPooling2D  (None, 14, 14, 608)  0          ['concatenate_4[0][0]']          \n",
      " )                                                                                                \n",
      "                                                                                                  \n",
      " conv2d_42 (Conv2D)             (None, 14, 14, 128)  77952       ['concatenate_4[0][0]']          \n",
      "                                                                                                  \n",
      " conv2d_44 (Conv2D)             (None, 14, 14, 256)  295168      ['conv2d_43[0][0]']              \n",
      "                                                                                                  \n",
      " conv2d_46 (Conv2D)             (None, 14, 14, 64)   204864      ['conv2d_45[0][0]']              \n",
      "                                                                                                  \n",
      " conv2d_47 (Conv2D)             (None, 14, 14, 128)  77952       ['max_pooling2d_20[0][0]']       \n",
      "                                                                                                  \n",
      " concatenate_5 (Concatenate)    (None, 14, 14, 576)  0           ['conv2d_42[0][0]',              \n",
      "                                                                  'conv2d_44[0][0]',              \n",
      "                                                                  'conv2d_46[0][0]',              \n",
      "                                                                  'conv2d_47[0][0]']              \n",
      "                                                                                                  \n",
      " conv2d_49 (Conv2D)             (None, 14, 14, 112)  64624       ['concatenate_5[0][0]']          \n",
      "                                                                                                  \n",
      " conv2d_51 (Conv2D)             (None, 14, 14, 112)  64624       ['concatenate_5[0][0]']          \n",
      "                                                                                                  \n",
      " max_pooling2d_21 (MaxPooling2D  (None, 14, 14, 576)  0          ['concatenate_5[0][0]']          \n",
      " )                                                                                                \n",
      "                                                                                                  \n",
      " conv2d_48 (Conv2D)             (None, 14, 14, 112)  64624       ['concatenate_5[0][0]']          \n",
      "                                                                                                  \n",
      " conv2d_50 (Conv2D)             (None, 14, 14, 288)  290592      ['conv2d_49[0][0]']              \n",
      "                                                                                                  \n",
      " conv2d_52 (Conv2D)             (None, 14, 14, 64)   179264      ['conv2d_51[0][0]']              \n",
      "                                                                                                  \n",
      " conv2d_53 (Conv2D)             (None, 14, 14, 112)  64624       ['max_pooling2d_21[0][0]']       \n",
      "                                                                                                  \n",
      " concatenate_6 (Concatenate)    (None, 14, 14, 576)  0           ['conv2d_48[0][0]',              \n",
      "                                                                  'conv2d_50[0][0]',              \n",
      "                                                                  'conv2d_52[0][0]',              \n",
      "                                                                  'conv2d_53[0][0]']              \n",
      "                                                                                                  \n",
      " conv2d_55 (Conv2D)             (None, 14, 14, 256)  147712      ['concatenate_6[0][0]']          \n",
      "                                                                                                  \n",
      " conv2d_57 (Conv2D)             (None, 14, 14, 256)  147712      ['concatenate_6[0][0]']          \n",
      "                                                                                                  \n",
      " max_pooling2d_22 (MaxPooling2D  (None, 14, 14, 576)  0          ['concatenate_6[0][0]']          \n",
      " )                                                                                                \n",
      "                                                                                                  \n",
      " conv2d_54 (Conv2D)             (None, 14, 14, 256)  147712      ['concatenate_6[0][0]']          \n",
      "                                                                                                  \n",
      " conv2d_56 (Conv2D)             (None, 14, 14, 320)  737600      ['conv2d_55[0][0]']              \n",
      "                                                                                                  \n",
      " conv2d_58 (Conv2D)             (None, 14, 14, 128)  819328      ['conv2d_57[0][0]']              \n",
      "                                                                                                  \n",
      " conv2d_59 (Conv2D)             (None, 14, 14, 256)  147712      ['max_pooling2d_22[0][0]']       \n",
      "                                                                                                  \n",
      " concatenate_7 (Concatenate)    (None, 14, 14, 960)  0           ['conv2d_54[0][0]',              \n",
      "                                                                  'conv2d_56[0][0]',              \n",
      "                                                                  'conv2d_58[0][0]',              \n",
      "                                                                  'conv2d_59[0][0]']              \n",
      "                                                                                                  \n",
      " max_pooling2d_23 (MaxPooling2D  (None, 7, 7, 960)   0           ['concatenate_7[0][0]']          \n",
      " )                                                                                                \n",
      "                                                                                                  \n",
      " conv2d_61 (Conv2D)             (None, 7, 7, 256)    246016      ['max_pooling2d_23[0][0]']       \n",
      "                                                                                                  \n",
      " conv2d_63 (Conv2D)             (None, 7, 7, 256)    246016      ['max_pooling2d_23[0][0]']       \n",
      "                                                                                                  \n",
      " max_pooling2d_24 (MaxPooling2D  (None, 7, 7, 960)   0           ['max_pooling2d_23[0][0]']       \n",
      " )                                                                                                \n",
      "                                                                                                  \n",
      " conv2d_60 (Conv2D)             (None, 7, 7, 256)    246016      ['max_pooling2d_23[0][0]']       \n",
      "                                                                                                  \n",
      " conv2d_62 (Conv2D)             (None, 7, 7, 320)    737600      ['conv2d_61[0][0]']              \n",
      "                                                                                                  \n",
      " conv2d_64 (Conv2D)             (None, 7, 7, 128)    819328      ['conv2d_63[0][0]']              \n",
      "                                                                                                  \n",
      " conv2d_65 (Conv2D)             (None, 7, 7, 256)    246016      ['max_pooling2d_24[0][0]']       \n",
      "                                                                                                  \n",
      " concatenate_8 (Concatenate)    (None, 7, 7, 960)    0           ['conv2d_60[0][0]',              \n",
      "                                                                  'conv2d_62[0][0]',              \n",
      "                                                                  'conv2d_64[0][0]',              \n",
      "                                                                  'conv2d_65[0][0]']              \n",
      "                                                                                                  \n",
      " conv2d_67 (Conv2D)             (None, 7, 7, 384)    369024      ['concatenate_8[0][0]']          \n",
      "                                                                                                  \n",
      " conv2d_69 (Conv2D)             (None, 7, 7, 384)    369024      ['concatenate_8[0][0]']          \n",
      "                                                                                                  \n",
      " max_pooling2d_25 (MaxPooling2D  (None, 7, 7, 960)   0           ['concatenate_8[0][0]']          \n",
      " )                                                                                                \n",
      "                                                                                                  \n",
      " conv2d_66 (Conv2D)             (None, 7, 7, 384)    369024      ['concatenate_8[0][0]']          \n",
      "                                                                                                  \n",
      " conv2d_68 (Conv2D)             (None, 7, 7, 384)    1327488     ['conv2d_67[0][0]']              \n",
      "                                                                                                  \n",
      " conv2d_70 (Conv2D)             (None, 7, 7, 128)    1228928     ['conv2d_69[0][0]']              \n",
      "                                                                                                  \n",
      " conv2d_71 (Conv2D)             (None, 7, 7, 384)    369024      ['max_pooling2d_25[0][0]']       \n",
      "                                                                                                  \n",
      " concatenate_9 (Concatenate)    (None, 7, 7, 1280)   0           ['conv2d_66[0][0]',              \n",
      "                                                                  'conv2d_68[0][0]',              \n",
      "                                                                  'conv2d_70[0][0]',              \n",
      "                                                                  'conv2d_71[0][0]']              \n",
      "                                                                                                  \n",
      " average_pooling2d (AveragePool  (None, 7, 7, 1280)  0           ['concatenate_9[0][0]']          \n",
      " ing2D)                                                                                           \n",
      "                                                                                                  \n",
      " flatten_6 (Flatten)            (None, 62720)        0           ['average_pooling2d[0][0]']      \n",
      "                                                                                                  \n",
      " dropout (Dropout)              (None, 62720)        0           ['flatten_6[0][0]']              \n",
      "                                                                                                  \n",
      " flatten_7 (Flatten)            (None, 62720)        0           ['dropout[0][0]']                \n",
      "                                                                                                  \n",
      " dense_10 (Dense)               (None, 1000)         62721000    ['flatten_7[0][0]']              \n",
      "                                                                                                  \n",
      " dense_11 (Dense)               (None, 5)            5005        ['dense_10[0][0]']               \n",
      "                                                                                                  \n",
      "==================================================================================================\n",
      "Total params: 75,961,269\n",
      "Trainable params: 75,961,269\n",
      "Non-trainable params: 0\n",
      "__________________________________________________________________________________________________\n"
     ]
    }
   ],
   "source": [
    "model_input = keras.Input(shape=(224, 224,3), name=\"f_input\")\n",
    "\n",
    "x = layers.Conv2D(filters=64, kernel_size=(7,7), strides=(2,2), padding='same', activation='relu')(model_input)\n",
    "x = layers.MaxPooling2D(pool_size=(3,3), strides=(2,2), padding='same')(x)\n",
    "x = layers.LayerNormalization()(x)\n",
    "\n",
    "x = layers.Conv2D(filters=64, kernel_size=(1,1), strides=(1,1), padding='same', activation='relu')(x)\n",
    "x = layers.Conv2D(filters=192, kernel_size=(3,3), strides=(1,1), padding='same', activation='relu')(x)\n",
    "x = layers.LayerNormalization()(x)\n",
    "x = layers.MaxPooling2D(pool_size=(3,3), strides=(2,2), padding='same')(x)\n",
    "\n",
    "x = inception_module(x, 64, 128, 32)\n",
    "x = inception_module(x, 128, 192, 96)\n",
    "x = layers.MaxPooling2D(pool_size=(3,3), strides=(2,2), padding='same')(x)\n",
    "\n",
    "x = inception_module(x, 192, 208, 48)\n",
    "x = inception_module(x, 160, 224, 64)\n",
    "x = inception_module(x, 128, 256, 64)\n",
    "x = inception_module(x, 112, 288, 64)\n",
    "x = inception_module(x, 256, 320, 128)\n",
    "x = layers.MaxPooling2D(pool_size=(3,3), strides=(2,2), padding='same')(x)\n",
    "\n",
    "x = inception_module(x, 256, 320, 128)\n",
    "x = inception_module(x, 384, 384, 128)\n",
    "\n",
    "x = layers.AveragePooling2D(pool_size=(7,7), strides=(1,1), padding='same')(x)\n",
    "x = layers.Flatten()(x)\n",
    "x = layers.Dropout(0.4)(x)\n",
    "\n",
    "x = layers.Flatten()(x)\n",
    "x = layers.Dense(1000, activation='softmax')(x)\n",
    "model_output = layers.Dense(5, activation=\"softmax\")(x)\n",
    "\n",
    "functional_model = keras.Model(model_input, model_output, name=\"GoogLeNet\")\n",
    "\n",
    "functional_model.summary()\n"
   ]
  }
 ],
 "metadata": {
  "accelerator": "GPU",
  "colab": {
   "collapsed_sections": [],
   "name": "[CG]201702052_이동헌_12주차_과제.ipynb",
   "provenance": []
  },
  "kernelspec": {
   "display_name": "Python 3",
   "name": "python3"
  },
  "language_info": {
   "name": "python"
  }
 },
 "nbformat": 4,
 "nbformat_minor": 0
}
